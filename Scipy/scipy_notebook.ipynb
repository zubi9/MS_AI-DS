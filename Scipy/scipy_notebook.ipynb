{
  "cells": [
    {
      "cell_type": "code",
      "source": [
        "!pip install scipy"
      ],
      "metadata": {
        "id": "yLdc18hV9V3A",
        "colab": {
          "base_uri": "https://localhost:8080/"
        },
        "outputId": "d1ff0f38-76fe-4177-ca10-5342008794a4"
      },
      "id": "yLdc18hV9V3A",
      "execution_count": 15,
      "outputs": [
        {
          "output_type": "stream",
          "name": "stdout",
          "text": [
            "Requirement already satisfied: scipy in /usr/local/lib/python3.10/dist-packages (1.11.4)\n",
            "Requirement already satisfied: numpy<1.28.0,>=1.21.6 in /usr/local/lib/python3.10/dist-packages (from scipy) (1.23.5)\n"
          ]
        }
      ]
    },
    {
      "cell_type": "code",
      "source": [
        "print(sp.__version__)"
      ],
      "metadata": {
        "colab": {
          "base_uri": "https://localhost:8080/"
        },
        "id": "126gVX0kl1C2",
        "outputId": "dbb4f903-f635-4f45-c6e3-e4f0e4e2a3ce"
      },
      "id": "126gVX0kl1C2",
      "execution_count": 16,
      "outputs": [
        {
          "output_type": "stream",
          "name": "stdout",
          "text": [
            "1.11.4\n"
          ]
        }
      ]
    },
    {
      "cell_type": "code",
      "source": [
        "from scipy import constants as constants\n",
        "import scipy as sp\n",
        "print(const.liter)"
      ],
      "metadata": {
        "colab": {
          "base_uri": "https://localhost:8080/"
        },
        "id": "JicnxIZWljbO",
        "outputId": "f2519779-d403-4d8e-9e08-d5bc705a9895"
      },
      "id": "JicnxIZWljbO",
      "execution_count": 17,
      "outputs": [
        {
          "output_type": "stream",
          "name": "stdout",
          "text": [
            "0.001\n"
          ]
        }
      ]
    },
    {
      "cell_type": "markdown",
      "source": [
        "## Metric (SI) Prefixes:\n",
        "Return the specified unit in meter (e.g. centi returns 0.01)"
      ],
      "metadata": {
        "id": "JLTErEnMqMxO"
      },
      "id": "JLTErEnMqMxO"
    },
    {
      "cell_type": "code",
      "source": [
        "print(f\"yotta = {constants.yotta}\")    # 1e+24\n",
        "print(f\"zetta = {constants.zetta}\")    # 1e+21\n",
        "print(f\"exa = {constants.exa}\")        # 1e+18\n",
        "print(f\"peta = {constants.peta}\")      # 1000000000000000.0\n",
        "print(f\"tera = {constants.tera}\")      # 1000000000000.0\n",
        "print(f\"giga = {constants.giga}\")      # 1000000000.0\n",
        "print(f\"mega = {constants.mega}\")      # 1000000.0\n",
        "print(f\"kilo = {constants.kilo}\")      # 1000.0\n",
        "print(f\"hecto = {constants.hecto}\")    # 100.0\n",
        "print(f\"deka = {constants.deka}\")      # 10.0\n",
        "print(f\"deci = {constants.deci}\")      # 0.1\n",
        "print(f\"centi = {constants.centi}\")    # 0.01\n",
        "print(f\"milli = {constants.milli}\")    # 0.001\n",
        "print(f\"micro = {constants.micro}\")    # 1e-06\n",
        "print(f\"nano = {constants.nano}\")      # 1e-09\n",
        "print(f\"pico = {constants.pico}\")      # 1e-12\n",
        "print(f\"femto = {constants.femto}\")    # 1e-15\n",
        "print(f\"atto = {constants.atto}\")      # 1e-18\n",
        "print(f\"zepto = {constants.zepto}\")    # 1e-21\n"
      ],
      "metadata": {
        "colab": {
          "base_uri": "https://localhost:8080/"
        },
        "id": "yVcc4x4Qm2Xl",
        "outputId": "84b84f5c-8802-4dc4-979a-5a040aaa5f8f"
      },
      "id": "yVcc4x4Qm2Xl",
      "execution_count": 18,
      "outputs": [
        {
          "output_type": "stream",
          "name": "stdout",
          "text": [
            "yotta = 1e+24\n",
            "zetta = 1e+21\n",
            "exa = 1e+18\n",
            "peta = 1000000000000000.0\n",
            "tera = 1000000000000.0\n",
            "giga = 1000000000.0\n",
            "mega = 1000000.0\n",
            "kilo = 1000.0\n",
            "hecto = 100.0\n",
            "deka = 10.0\n",
            "deci = 0.1\n",
            "centi = 0.01\n",
            "milli = 0.001\n",
            "micro = 1e-06\n",
            "nano = 1e-09\n",
            "pico = 1e-12\n",
            "femto = 1e-15\n",
            "atto = 1e-18\n",
            "zepto = 1e-21\n"
          ]
        }
      ]
    },
    {
      "cell_type": "markdown",
      "source": [
        "## Binary constants\n",
        "Return the specified unit in bytes (e.g. kibi returns 1024)"
      ],
      "metadata": {
        "id": "I97TxFi8pLfK"
      },
      "id": "I97TxFi8pLfK"
    },
    {
      "cell_type": "code",
      "source": [
        "print(f\"kibi = {constants.kibi}\")    # 1024\n",
        "print(f\"mebi = {constants.mebi}\")    # 1048576\n",
        "print(f\"gibi = {constants.gibi}\")    # 1073741824\n",
        "print(f\"tebi = {constants.tebi}\")    # 1099511627776\n",
        "print(f\"pebi = {constants.pebi}\")    # 1125899906842624\n",
        "print(f\"exbi = {constants.exbi}\")    # 1152921504606846976\n",
        "print(f\"zebi = {constants.zebi}\")    # 1180591620717411303424\n",
        "print(f\"yobi = {constants.yobi}\")    # 1208925819614629174706176\n"
      ],
      "metadata": {
        "colab": {
          "base_uri": "https://localhost:8080/"
        },
        "id": "awcvBcGOonz_",
        "outputId": "3b7c6f2a-10c3-44bc-f600-fd10e2db8e7a"
      },
      "id": "awcvBcGOonz_",
      "execution_count": 19,
      "outputs": [
        {
          "output_type": "stream",
          "name": "stdout",
          "text": [
            "kibi = 1024\n",
            "mebi = 1048576\n",
            "gibi = 1073741824\n",
            "tebi = 1099511627776\n",
            "pebi = 1125899906842624\n",
            "exbi = 1152921504606846976\n",
            "zebi = 1180591620717411303424\n",
            "yobi = 1208925819614629174706176\n"
          ]
        }
      ]
    },
    {
      "cell_type": "markdown",
      "source": [
        "## Mass\n",
        "Return the specified unit in kg (e.g. gram returns 0.001)"
      ],
      "metadata": {
        "id": "R6ZnMrQvp4SI"
      },
      "id": "R6ZnMrQvp4SI"
    },
    {
      "cell_type": "code",
      "source": [
        "print(f\"gram = {constants.gram} kg\")             # 0.001 kg\n",
        "print(f\"metric_ton = {constants.metric_ton} kg\") # 1000.0 kg\n",
        "print(f\"grain = {constants.grain} kg\")           # 6.479891e-05 kg\n",
        "print(f\"lb = {constants.lb} kg\")                 # 0.45359236999999997 kg\n",
        "print(f\"pound = {constants.pound} kg\")           # 0.45359236999999997 kg\n",
        "print(f\"oz = {constants.oz} kg\")                 # 0.028349523124999998 kg\n",
        "print(f\"ounce = {constants.ounce} kg\")           # 0.028349523124999998 kg\n",
        "print(f\"stone = {constants.stone} kg\")           # 6.3502931799999995 kg\n",
        "print(f\"long_ton = {constants.long_ton} kg\")     # 1016.0469088 kg\n",
        "print(f\"short_ton = {constants.short_ton} kg\")   # 907.1847399999999 kg\n",
        "print(f\"troy_ounce = {constants.troy_ounce} kg\") # 0.031103476799999998 kg\n",
        "print(f\"troy_pound = {constants.troy_pound} kg\") # 0.37324172159999996 kg\n",
        "print(f\"carat = {constants.carat} kg\")           # 0.0002 kg\n",
        "print(f\"atomic_mass = {constants.atomic_mass} kg\") # 1.66053904e-27 kg\n",
        "print(f\"m_u = {constants.m_u} kg\")               # 1.66053904e-27 kg\n",
        "print(f\"u = {constants.u} kg\")                   # 1.66053904e-27 kg\n"
      ],
      "metadata": {
        "colab": {
          "base_uri": "https://localhost:8080/"
        },
        "id": "71rAPPUYpPsX",
        "outputId": "65875b2d-6a1e-491e-9f79-035256d7bca3"
      },
      "id": "71rAPPUYpPsX",
      "execution_count": 20,
      "outputs": [
        {
          "output_type": "stream",
          "name": "stdout",
          "text": [
            "gram = 0.001 kg\n",
            "metric_ton = 1000.0 kg\n",
            "grain = 6.479891e-05 kg\n",
            "lb = 0.45359236999999997 kg\n",
            "pound = 0.45359236999999997 kg\n",
            "oz = 0.028349523124999998 kg\n",
            "ounce = 0.028349523124999998 kg\n",
            "stone = 6.3502931799999995 kg\n",
            "long_ton = 1016.0469088 kg\n",
            "short_ton = 907.1847399999999 kg\n",
            "troy_ounce = 0.031103476799999998 kg\n",
            "troy_pound = 0.37324172159999996 kg\n",
            "carat = 0.0002 kg\n",
            "atomic_mass = 1.6605390666e-27 kg\n",
            "m_u = 1.6605390666e-27 kg\n",
            "u = 1.6605390666e-27 kg\n"
          ]
        }
      ]
    },
    {
      "cell_type": "markdown",
      "source": [
        "## Angle:\n",
        "Return the specified unit in radians (e.g. degree returns 0.017453292519943295)"
      ],
      "metadata": {
        "id": "MmOSnUIwqiC0"
      },
      "id": "MmOSnUIwqiC0"
    },
    {
      "cell_type": "code",
      "source": [
        "from scipy import constants\n",
        "\n",
        "print(f\"degree = {constants.degree} radians\")         # 0.017453292519943295 radians\n",
        "print(f\"arcmin = {constants.arcmin} radians\")         # 0.0002908882086657216 radians\n",
        "print(f\"arcminute = {constants.arcminute} radians\")   # 0.0002908882086657216 radians\n",
        "print(f\"arcsec = {constants.arcsec} radians\")         # 4.84813681109536e-06 radians\n",
        "print(f\"arcsecond = {constants.arcsecond} radians\")   # 4.84813681109536e-06 radians\n"
      ],
      "metadata": {
        "colab": {
          "base_uri": "https://localhost:8080/"
        },
        "id": "BYhP9Ibrp9RB",
        "outputId": "20bde156-493b-4c46-f66f-ac79339fe781"
      },
      "id": "BYhP9Ibrp9RB",
      "execution_count": 21,
      "outputs": [
        {
          "output_type": "stream",
          "name": "stdout",
          "text": [
            "degree = 0.017453292519943295 radians\n",
            "arcmin = 0.0002908882086657216 radians\n",
            "arcminute = 0.0002908882086657216 radians\n",
            "arcsec = 4.84813681109536e-06 radians\n",
            "arcsecond = 4.84813681109536e-06 radians\n"
          ]
        }
      ]
    },
    {
      "cell_type": "markdown",
      "source": [
        "## Time:\n",
        "Return the specified unit in seconds (e.g. hour returns 3600.0)"
      ],
      "metadata": {
        "id": "s7vs-gpKquvw"
      },
      "id": "s7vs-gpKquvw"
    },
    {
      "cell_type": "code",
      "source": [
        "print(f\"minute = {constants.minute} seconds\")         # 60.0 seconds\n",
        "print(f\"hour = {constants.hour} seconds\")             # 3600.0 seconds\n",
        "print(f\"day = {constants.day} seconds\")               # 86400.0 seconds\n",
        "print(f\"week = {constants.week} seconds\")             # 604800.0 seconds\n",
        "print(f\"year = {constants.year} seconds\")             # 31536000.0 seconds\n",
        "print(f\"Julian_year = {constants.Julian_year} seconds\")  # 31557600.0 seconds"
      ],
      "metadata": {
        "colab": {
          "base_uri": "https://localhost:8080/"
        },
        "id": "s0Pyj_3Hqlww",
        "outputId": "e17650fd-3667-4823-9210-c174b432a7fa"
      },
      "id": "s0Pyj_3Hqlww",
      "execution_count": 22,
      "outputs": [
        {
          "output_type": "stream",
          "name": "stdout",
          "text": [
            "minute = 60.0 seconds\n",
            "hour = 3600.0 seconds\n",
            "day = 86400.0 seconds\n",
            "week = 604800.0 seconds\n",
            "year = 31536000.0 seconds\n",
            "Julian_year = 31557600.0 seconds\n"
          ]
        }
      ]
    },
    {
      "cell_type": "markdown",
      "source": [
        "## Length:\n",
        "Return the specified unit in meters (e.g. nautical_mile returns 1852.0)"
      ],
      "metadata": {
        "id": "bECXfoumq6YO"
      },
      "id": "bECXfoumq6YO"
    },
    {
      "cell_type": "code",
      "source": [
        "print(f\"inch = {constants.inch} meters\")                        # 0.0254 meters\n",
        "print(f\"foot = {constants.foot} meters\")                        # 0.30479999999999996 meters\n",
        "print(f\"yard = {constants.yard} meters\")                        # 0.9143999999999999 meters\n",
        "print(f\"mile = {constants.mile} meters\")                        # 1609.3439999999998 meters\n",
        "print(f\"mil = {constants.mil} meters\")                          # 2.5399999999999997e-05 meters\n",
        "print(f\"pt = {constants.pt} meters\")                            # 0.00035277777777777776 meters\n",
        "print(f\"point = {constants.point} meters\")                      # 0.00035277777777777776 meters\n",
        "print(f\"survey_foot = {constants.survey_foot} meters\")          # 0.3048006096012192 meters\n",
        "print(f\"survey_mile = {constants.survey_mile} meters\")          # 1609.3472186944373 meters\n",
        "print(f\"nautical_mile = {constants.nautical_mile} meters\")      # 1852.0 meters\n",
        "print(f\"fermi = {constants.fermi} meters\")                      # 1e-15 meters\n",
        "print(f\"angstrom = {constants.angstrom} meters\")                # 1e-10 meters\n",
        "print(f\"micron = {constants.micron} meters\")                    # 1e-06 meters\n",
        "print(f\"au = {constants.au} meters\")                            # 149597870691.0 meters\n",
        "print(f\"astronomical_unit = {constants.astronomical_unit} meters\")  # 149597870691.0 meters\n",
        "print(f\"light_year = {constants.light_year} meters\")            # 9460730472580800.0 meters\n",
        "print(f\"parsec = {constants.parsec} meters\")                    # 3.0856775813057292e+16 meters\n"
      ],
      "metadata": {
        "colab": {
          "base_uri": "https://localhost:8080/"
        },
        "id": "ZPzrBvLxqzMn",
        "outputId": "ef5e7c96-19c1-40dd-cee2-d91203c228b3"
      },
      "id": "ZPzrBvLxqzMn",
      "execution_count": 23,
      "outputs": [
        {
          "output_type": "stream",
          "name": "stdout",
          "text": [
            "inch = 0.0254 meters\n",
            "foot = 0.30479999999999996 meters\n",
            "yard = 0.9143999999999999 meters\n",
            "mile = 1609.3439999999998 meters\n",
            "mil = 2.5399999999999997e-05 meters\n",
            "pt = 0.00035277777777777776 meters\n",
            "point = 0.00035277777777777776 meters\n",
            "survey_foot = 0.3048006096012192 meters\n",
            "survey_mile = 1609.3472186944373 meters\n",
            "nautical_mile = 1852.0 meters\n",
            "fermi = 1e-15 meters\n",
            "angstrom = 1e-10 meters\n",
            "micron = 1e-06 meters\n",
            "au = 149597870700.0 meters\n",
            "astronomical_unit = 149597870700.0 meters\n",
            "light_year = 9460730472580800.0 meters\n",
            "parsec = 3.085677581491367e+16 meters\n"
          ]
        }
      ]
    },
    {
      "cell_type": "markdown",
      "source": [
        "## Pressure:\n",
        "Return the specified unit in pascals (e.g. psi returns 6894.757293168361)"
      ],
      "metadata": {
        "id": "uhqJb0eSrZW_"
      },
      "id": "uhqJb0eSrZW_"
    },
    {
      "cell_type": "code",
      "source": [
        "print(f\"atm = {constants.atm} Pa\")             # 101325.0 Pa\n",
        "print(f\"atmosphere = {constants.atmosphere} Pa\")  # 101325.0 Pa\n",
        "print(f\"bar = {constants.bar} Pa\")             # 100000.0 Pa\n",
        "print(f\"torr = {constants.torr} Pa\")           # 133.32236842105263 Pa\n",
        "print(f\"mmHg = {constants.mmHg} Pa\")           # 133.32236842105263 Pa\n",
        "print(f\"psi = {constants.psi} Pa\")             # 6894.757293168361 Pa\n"
      ],
      "metadata": {
        "colab": {
          "base_uri": "https://localhost:8080/"
        },
        "id": "V_XW9tG4rALl",
        "outputId": "1e56819d-f733-412b-9612-5392589833b8"
      },
      "id": "V_XW9tG4rALl",
      "execution_count": 24,
      "outputs": [
        {
          "output_type": "stream",
          "name": "stdout",
          "text": [
            "atm = 101325.0 Pa\n",
            "atmosphere = 101325.0 Pa\n",
            "bar = 100000.0 Pa\n",
            "torr = 133.32236842105263 Pa\n",
            "mmHg = 133.32236842105263 Pa\n",
            "psi = 6894.757293168361 Pa\n"
          ]
        }
      ]
    },
    {
      "cell_type": "markdown",
      "source": [
        "## Area:\n",
        "Return the specified unit in square meters(e.g. hectare returns 10000.0)"
      ],
      "metadata": {
        "id": "Td08ojy0r3I1"
      },
      "id": "Td08ojy0r3I1"
    },
    {
      "cell_type": "code",
      "source": [
        "print(f\"hectare = {constants.hectare} m²\")   # 10000.0 m²\n",
        "print(f\"acre = {constants.acre} m²\")         # 4046.8564223999992 m²\n"
      ],
      "metadata": {
        "colab": {
          "base_uri": "https://localhost:8080/"
        },
        "id": "lF56V9Qoreq8",
        "outputId": "b39c655a-4020-43cf-fce2-c93ff4315b5b"
      },
      "id": "lF56V9Qoreq8",
      "execution_count": 25,
      "outputs": [
        {
          "output_type": "stream",
          "name": "stdout",
          "text": [
            "hectare = 10000.0 m²\n",
            "acre = 4046.8564223999992 m²\n"
          ]
        }
      ]
    },
    {
      "cell_type": "markdown",
      "source": [
        "## Volume:\n",
        "Return the specified unit in cubic meters (e.g. liter returns 0.001)"
      ],
      "metadata": {
        "id": "KrTp6ZYKr_f1"
      },
      "id": "KrTp6ZYKr_f1"
    },
    {
      "cell_type": "code",
      "source": [
        "print(f\"liter = {constants.litre} m³\")\n",
        "print(f\"gallon = {constants.gallon} m³\")\n",
        "print(f\"gallon_US = {constants.gallon_US} m³\")\n",
        "print(f\"gallon_imp = {constants.gallon_imp} m³\")\n",
        "print(f\"fluid_ounce = {constants.fluid_ounce} m³\")\n",
        "print(f\"fluid_ounce_US = {constants.fluid_ounce_US} m³\")\n",
        "print(f\"fluid_ounce_imp = {constants.fluid_ounce_imp} m³\")\n",
        "print(f\"barrel = {constants.barrel} m³\")\n",
        "print(f\"bbl = {constants.bbl} m³\")\n"
      ],
      "metadata": {
        "colab": {
          "base_uri": "https://localhost:8080/"
        },
        "id": "MaciSBUQr7P2",
        "outputId": "8483fd1d-48db-4bae-c188-4db471283e26"
      },
      "id": "MaciSBUQr7P2",
      "execution_count": 26,
      "outputs": [
        {
          "output_type": "stream",
          "name": "stdout",
          "text": [
            "liter = 0.001 m³\n",
            "gallon = 0.0037854117839999997 m³\n",
            "gallon_US = 0.0037854117839999997 m³\n",
            "gallon_imp = 0.00454609 m³\n",
            "fluid_ounce = 2.9573529562499998e-05 m³\n",
            "fluid_ounce_US = 2.9573529562499998e-05 m³\n",
            "fluid_ounce_imp = 2.84130625e-05 m³\n",
            "barrel = 0.15898729492799998 m³\n",
            "bbl = 0.15898729492799998 m³\n"
          ]
        }
      ]
    },
    {
      "cell_type": "markdown",
      "source": [
        "## Speed:\n",
        "Return the specified unit in meters per second (e.g. speed_of_sound returns 340.5)"
      ],
      "metadata": {
        "id": "fo9wR6uFusFV"
      },
      "id": "fo9wR6uFusFV"
    },
    {
      "cell_type": "code",
      "source": [
        "print(f\"kmh = {constants.kmh} m/s\")              # 0.2777777777777778 m/s\n",
        "print(f\"mph = {constants.mph} m/s\")              # 0.44703999999999994 m/s\n",
        "print(f\"mach = {constants.mach}\")                # 340.5 (dimensionless)\n",
        "print(f\"speed_of_sound = {constants.speed_of_sound} m/s\")  # 340.5 m/s\n",
        "print(f\"knot = {constants.knot} m/s\")           # 0.5144444444444445 m/s"
      ],
      "metadata": {
        "colab": {
          "base_uri": "https://localhost:8080/"
        },
        "id": "58WR5E4psG9X",
        "outputId": "339ea0f8-7899-426b-a8d2-fc421f05e9bf"
      },
      "id": "58WR5E4psG9X",
      "execution_count": 27,
      "outputs": [
        {
          "output_type": "stream",
          "name": "stdout",
          "text": [
            "kmh = 0.2777777777777778 m/s\n",
            "mph = 0.44703999999999994 m/s\n",
            "mach = 340.5\n",
            "speed_of_sound = 340.5 m/s\n",
            "knot = 0.5144444444444445 m/s\n"
          ]
        }
      ]
    },
    {
      "cell_type": "markdown",
      "source": [
        "## Temperature\n",
        "Return the specified unit in Kelvin (e.g. zero_Celsius returns 273.15)"
      ],
      "metadata": {
        "id": "Gbk96AV_u4eI"
      },
      "id": "Gbk96AV_u4eI"
    },
    {
      "cell_type": "code",
      "source": [
        "print(f\"zero_Celsius = {constants.zero_Celsius} K\")           # 273.15 K\n",
        "print(f\"degree_Fahrenheit = {constants.degree_Fahrenheit} K\")  # 0.5555555555555556 K"
      ],
      "metadata": {
        "colab": {
          "base_uri": "https://localhost:8080/"
        },
        "id": "Epj2Rn86u0CM",
        "outputId": "87b5b8f4-ea69-4657-9c05-1c1947eee622"
      },
      "id": "Epj2Rn86u0CM",
      "execution_count": 28,
      "outputs": [
        {
          "output_type": "stream",
          "name": "stdout",
          "text": [
            "zero_Celsius = 273.15 K\n",
            "degree_Fahrenheit = 0.5555555555555556 K\n"
          ]
        }
      ]
    },
    {
      "cell_type": "markdown",
      "source": [
        "## Energy:\n",
        "Return the specified unit in joules (e.g. calorie returns 4.184)"
      ],
      "metadata": {
        "id": "d-TuT0RNvEUJ"
      },
      "id": "d-TuT0RNvEUJ"
    },
    {
      "cell_type": "code",
      "source": [
        "print(f\"eV = {constants.eV} joules\")               # 1.6021766208e-19 joules\n",
        "print(f\"electron_volt = {constants.electron_volt} joules\")  # 1.6021766208e-19 joules\n",
        "print(f\"calorie = {constants.calorie} joules\")     # 4.184 joules\n",
        "print(f\"calorie_th = {constants.calorie_th} joules\")  # 4.184 joules\n",
        "print(f\"calorie_IT = {constants.calorie_IT} joules\")  # 4.1868 joules\n",
        "print(f\"erg = {constants.erg} joules\")             # 1e-07 joules\n",
        "print(f\"Btu = {constants.Btu} joules\")             # 1055.05585262 joules\n",
        "print(f\"Btu_IT = {constants.Btu_IT} joules\")      # 1055.05585262 joules\n",
        "print(f\"Btu_th = {constants.Btu_th} joules\")      # 1054.3502644888888 joules\n",
        "print(f\"ton_TNT = {constants.ton_TNT} joules\")    # 4184000000.0 joules\n"
      ],
      "metadata": {
        "colab": {
          "base_uri": "https://localhost:8080/"
        },
        "id": "9QoG5eWJu_75",
        "outputId": "c36d1425-1808-4ac0-995c-a29d5376954e"
      },
      "id": "9QoG5eWJu_75",
      "execution_count": 29,
      "outputs": [
        {
          "output_type": "stream",
          "name": "stdout",
          "text": [
            "eV = 1.602176634e-19 joules\n",
            "electron_volt = 1.602176634e-19 joules\n",
            "calorie = 4.184 joules\n",
            "calorie_th = 4.184 joules\n",
            "calorie_IT = 4.1868 joules\n",
            "erg = 1e-07 joules\n",
            "Btu = 1055.05585262 joules\n",
            "Btu_IT = 1055.05585262 joules\n",
            "Btu_th = 1054.3502644888888 joules\n",
            "ton_TNT = 4184000000.0 joules\n"
          ]
        }
      ]
    },
    {
      "cell_type": "markdown",
      "source": [
        "## Power:\n",
        "Return the specified unit in watts (e.g. horsepower returns 745.6998715822701)"
      ],
      "metadata": {
        "id": "uwNLzI4lvcoH"
      },
      "id": "uwNLzI4lvcoH"
    },
    {
      "cell_type": "code",
      "source": [
        "print(f\"hp = {constants.hp} watts\")                # 745.6998715822701 watts\n",
        "print(f\"horsepower = {constants.horsepower} watts\")  # 745.6998715822701 watts"
      ],
      "metadata": {
        "colab": {
          "base_uri": "https://localhost:8080/"
        },
        "id": "9BUm8iNBvYC5",
        "outputId": "2f87db62-57f6-4e97-b682-bc2473b621d3"
      },
      "id": "9BUm8iNBvYC5",
      "execution_count": 30,
      "outputs": [
        {
          "output_type": "stream",
          "name": "stdout",
          "text": [
            "hp = 745.6998715822701 watts\n",
            "horsepower = 745.6998715822701 watts\n"
          ]
        }
      ]
    },
    {
      "cell_type": "markdown",
      "source": [
        "## Force:\n",
        "Return the specified unit in newton (e.g. kilogram_force returns 9.80665)"
      ],
      "metadata": {
        "id": "NcyCWohyvrs4"
      },
      "id": "NcyCWohyvrs4"
    },
    {
      "cell_type": "code",
      "source": [
        "print(f\"dyn = {constants.dyn} N\")                     # 1e-05 N\n",
        "print(f\"dyne = {constants.dyne} N\")                   # 1e-05 N\n",
        "print(f\"lbf = {constants.lbf} N\")                     # 4.4482216152605 N\n",
        "print(f\"pound_force = {constants.pound_force} N\")     # 4.4482216152605 N\n",
        "print(f\"kgf = {constants.kgf} N\")                     # 9.80665 N\n",
        "print(f\"kilogram_force = {constants.kilogram_force} N\")  # 9.80665 N\n"
      ],
      "metadata": {
        "colab": {
          "base_uri": "https://localhost:8080/"
        },
        "id": "0upvIwpPvk2b",
        "outputId": "08988f5f-2d89-48a4-cea9-3bc76f55f861"
      },
      "id": "0upvIwpPvk2b",
      "execution_count": 31,
      "outputs": [
        {
          "output_type": "stream",
          "name": "stdout",
          "text": [
            "dyn = 1e-05 N\n",
            "dyne = 1e-05 N\n",
            "lbf = 4.4482216152605 N\n",
            "pound_force = 4.4482216152605 N\n",
            "kgf = 9.80665 N\n",
            "kilogram_force = 9.80665 N\n"
          ]
        }
      ]
    },
    {
      "cell_type": "code",
      "source": [
        "from scipy.optimize import root\n",
        "from math import cos\n",
        "\n",
        "def eqn(x):\n",
        "  return x + 2*cos(x)\n",
        "\n",
        "\n",
        "\n",
        "\n",
        "myroot = root(eqn, 0)\n",
        "\n",
        "print(myroot.x)"
      ],
      "metadata": {
        "colab": {
          "base_uri": "https://localhost:8080/"
        },
        "id": "MIknpRBEv3Cl",
        "outputId": "e440de1a-4c1d-47a6-f29d-daef2e6c4bd8"
      },
      "id": "MIknpRBEv3Cl",
      "execution_count": 32,
      "outputs": [
        {
          "output_type": "stream",
          "name": "stdout",
          "text": [
            "[-1.02986653]\n"
          ]
        }
      ]
    },
    {
      "cell_type": "markdown",
      "source": [
        "## Minimizing a Function\n",
        "A function, in this context, represents a curve, curves have high points and low points.\n",
        "\n",
        "High points are called maxima.\n",
        "\n",
        "Low points are called minima.\n",
        "\n",
        "The highest point in the whole curve is called global maxima, whereas the rest of them are called local maxima.\n",
        "\n",
        "The lowest point in whole curve is called global minima, whereas the rest of them are called local minima"
      ],
      "metadata": {
        "id": "mkXvtxu-3gzr"
      },
      "id": "mkXvtxu-3gzr"
    },
    {
      "cell_type": "code",
      "source": [
        "from scipy.optimize import minimize\n",
        "\n",
        "def eqn(x):\n",
        "  return x**2 + x + 2\n",
        "\n",
        "mymin = minimize(eqn, 0, method='BFGS')\n",
        "\n",
        "print(mymin)"
      ],
      "metadata": {
        "colab": {
          "base_uri": "https://localhost:8080/"
        },
        "id": "DXTacjwxz3NR",
        "outputId": "d40d14f1-550c-4390-d36d-848cd4193bf2"
      },
      "id": "DXTacjwxz3NR",
      "execution_count": 33,
      "outputs": [
        {
          "output_type": "stream",
          "name": "stdout",
          "text": [
            "  message: Optimization terminated successfully.\n",
            "  success: True\n",
            "   status: 0\n",
            "      fun: 1.75\n",
            "        x: [-5.000e-01]\n",
            "      nit: 2\n",
            "      jac: [ 0.000e+00]\n",
            " hess_inv: [[ 5.000e-01]]\n",
            "     nfev: 8\n",
            "     njev: 4\n"
          ]
        }
      ]
    },
    {
      "cell_type": "markdown",
      "source": [
        "## How to Work With Sparse Data\n",
        "SciPy has a module, scipy.sparse that provides functions to deal with sparse data.\n",
        "\n",
        "There are primarily two types of sparse matrices that we use:\n",
        "\n",
        "CSC - Compressed Sparse Column. For efficient arithmetic, fast column slicing.\n",
        "\n",
        "CSR - Compressed Sparse Row. For fast row slicing, faster matrix vector products\n",
        "\n",
        "We will use the CSR matrix in this tutorial."
      ],
      "metadata": {
        "id": "ASE2YuN46dIv"
      },
      "id": "ASE2YuN46dIv"
    },
    {
      "cell_type": "code",
      "source": [
        "import numpy as np\n",
        "from scipy.sparse import csr_matrix\n",
        "\n",
        "arr = np.array([0, 0, 0, 0, 0, 1, 1, 0, 2])\n",
        "\n",
        "print(csr_matrix(arr))"
      ],
      "metadata": {
        "colab": {
          "base_uri": "https://localhost:8080/"
        },
        "id": "zjr88rV9z31c",
        "outputId": "b58120e4-a48b-477e-ef55-3ea9b4c260f9"
      },
      "id": "zjr88rV9z31c",
      "execution_count": 34,
      "outputs": [
        {
          "output_type": "stream",
          "name": "stdout",
          "text": [
            "  (0, 5)\t1\n",
            "  (0, 6)\t1\n",
            "  (0, 8)\t2\n"
          ]
        }
      ]
    },
    {
      "cell_type": "markdown",
      "source": [
        "From the result we can see that there are 3 items with value.\n",
        "\n",
        "The 1. item is in row 0 position 5 and has the value 1.\n",
        "\n",
        "The 2. item is in row 0 position 6 and has the value 1.\n",
        "\n",
        "The 3. item is in row 0 position 8 and has the value 2."
      ],
      "metadata": {
        "id": "5w2xE9ki6i6d"
      },
      "id": "5w2xE9ki6i6d"
    },
    {
      "cell_type": "code",
      "source": [
        "arr = np.array([[0, 0, 0], [0, 0, 1], [1, 0, 2]])\n",
        "\n",
        "print(csr_matrix(arr))\n",
        "print(\"Printing only data values of the sparse matrix : \",csr_matrix(arr).data)\n",
        "print(\"Printing numbers of non_zero values of the sparse matrix : \",csr_matrix(arr).count_nonzero())"
      ],
      "metadata": {
        "colab": {
          "base_uri": "https://localhost:8080/"
        },
        "id": "tzCnODNv3mLf",
        "outputId": "58d075e5-00d0-473d-ec67-0fffded2fa0b"
      },
      "id": "tzCnODNv3mLf",
      "execution_count": 35,
      "outputs": [
        {
          "output_type": "stream",
          "name": "stdout",
          "text": [
            "  (1, 2)\t1\n",
            "  (2, 0)\t1\n",
            "  (2, 2)\t2\n",
            "Printing only data values of the sparse matrix :  [1 1 2]\n",
            "Printing numbers of non_zero values of the sparse matrix :  3\n"
          ]
        }
      ]
    },
    {
      "cell_type": "code",
      "source": [
        "# Removing zero-entries from the matrix with the eliminate_zeros() method:\n",
        "arr = np.array([[0, 0, 0], [0, 0, 1], [1, 0, 2]])\n",
        "\n",
        "mat = csr_matrix(arr)\n",
        "mat.eliminate_zeros()\n",
        "\n",
        "print(mat)"
      ],
      "metadata": {
        "colab": {
          "base_uri": "https://localhost:8080/"
        },
        "id": "ITv3ewKu6vol",
        "outputId": "aa1fdeae-c3a6-4ab2-a2aa-5ec25778b4a5"
      },
      "id": "ITv3ewKu6vol",
      "execution_count": 36,
      "outputs": [
        {
          "output_type": "stream",
          "name": "stdout",
          "text": [
            "  (1, 2)\t1\n",
            "  (2, 0)\t1\n",
            "  (2, 2)\t2\n"
          ]
        }
      ]
    },
    {
      "cell_type": "code",
      "source": [
        "\n",
        "arr = np.array([[0, 0, 0], [0, 0, 1], [1, 0, 2]])\n",
        "\n",
        "mat = csr_matrix(arr)\n",
        "mat.sum_duplicates()\n",
        "print(\"CSR Matrix\")\n",
        "print(mat)\n",
        "print(\"CSC Matrix\")\n",
        "print(mat.tocsc())"
      ],
      "metadata": {
        "colab": {
          "base_uri": "https://localhost:8080/"
        },
        "id": "WNMielv17zD0",
        "outputId": "f8917074-266f-4aef-a93c-4bffd06c21af"
      },
      "id": "WNMielv17zD0",
      "execution_count": 37,
      "outputs": [
        {
          "output_type": "stream",
          "name": "stdout",
          "text": [
            "CSR Matrix\n",
            "  (1, 2)\t1\n",
            "  (2, 0)\t1\n",
            "  (2, 2)\t2\n",
            "CSC Matrix\n",
            "  (2, 0)\t1\n",
            "  (1, 2)\t1\n",
            "  (2, 2)\t2\n"
          ]
        }
      ]
    },
    {
      "cell_type": "markdown",
      "source": [
        "## Adjacency Matrix\n",
        "Adjacency matrix is a nxn matrix where n is the number of elements in a graph.\n",
        "\n",
        "And the values represents the connection between the elements.\n",
        "\n",
        "Example:\n",
        "For a graph like this, with elements A, B and C, the connections are:\n",
        "\n",
        "A & B are connected with weight 1.\n",
        "\n",
        "A & C are connected with weight 2.\n",
        "\n",
        "C & B is not connected.\n",
        "\n",
        "The Adjency Matrix would look like this:\n",
        "\n",
        "        A B C\n",
        "     A:[0 1 2]  \n",
        "     B:[1 0 0]\n",
        "     C:[2 0 0]"
      ],
      "metadata": {
        "id": "ixZKhoXzEkrJ"
      },
      "id": "ixZKhoXzEkrJ"
    },
    {
      "cell_type": "markdown",
      "source": [
        "### Connected Components\n",
        "Find all of the connected components with the connected_components() method."
      ],
      "metadata": {
        "id": "2hZcbFV2E-qC"
      },
      "id": "2hZcbFV2E-qC"
    },
    {
      "cell_type": "code",
      "source": [
        "import numpy as np\n",
        "from scipy.sparse.csgraph import connected_components\n",
        "from scipy.sparse import csr_matrix\n",
        "\n",
        "# Create a 2D NumPy array representing an undirected graph\n",
        "arr = np.array([\n",
        "  [0, 1, 2],\n",
        "  [1, 0, 0],\n",
        "  [2, 0, 0]\n",
        "])\n",
        "\n",
        "# Convert the NumPy array to a CSR matrix\n",
        "newarr = csr_matrix(arr)\n",
        "\n",
        "# Use connected_components to find the connected components\n",
        "components, labels = connected_components(newarr)\n",
        "\n",
        "# Print the result\n",
        "print(\"Number of connected components:\", components)\n",
        "print(\"Labels for each node:\", labels)\n"
      ],
      "metadata": {
        "colab": {
          "base_uri": "https://localhost:8080/"
        },
        "id": "WjhsusCR78_h",
        "outputId": "2b20511f-a6ee-4265-c7d3-7ae2babdfbf6"
      },
      "id": "WjhsusCR78_h",
      "execution_count": 38,
      "outputs": [
        {
          "output_type": "stream",
          "name": "stdout",
          "text": [
            "Number of connected components: 1\n",
            "Labels for each node: [0 0 0]\n"
          ]
        }
      ]
    },
    {
      "cell_type": "markdown",
      "source": [
        "### Dijkstra\n",
        "Use the dijkstra method to find the shortest path in a graph from one element to another.\n",
        "\n",
        "It takes following arguments:\n",
        "\n",
        "1. return_predecessors: boolean (True to return whole path of traversal otherwise False).\n",
        "2. indices: index of the element to return all paths from that element only.\n",
        "3. limit: max weight of path."
      ],
      "metadata": {
        "id": "lsWToD8iFTJq"
      },
      "id": "lsWToD8iFTJq"
    },
    {
      "cell_type": "code",
      "source": [
        "import numpy as np\n",
        "from scipy.sparse.csgraph import dijkstra\n",
        "from scipy.sparse import csr_matrix\n",
        "\n",
        "# Create a 2D NumPy array representing a weighted directed graph\n",
        "arr = np.array([\n",
        "    [0, 1, 2],\n",
        "    [1, 0, 0],\n",
        "    [2, 0, 0]\n",
        "])\n",
        "\n",
        "# Convert the NumPy array to a CSR matrix\n",
        "newarr = csr_matrix(arr)\n",
        "\n",
        "# Use Dijkstra's algorithm to find the shortest paths\n",
        "# from node with index 0 to all other nodes\n",
        "shortest_paths, predecessors = dijkstra(newarr, return_predecessors=True, indices=0)\n",
        "\n",
        "# Print the result\n",
        "print(\"Shortest paths:\", shortest_paths)\n",
        "print(\"Predecessors:\", predecessors)\n"
      ],
      "metadata": {
        "colab": {
          "base_uri": "https://localhost:8080/"
        },
        "id": "n2A6Gh8wFVah",
        "outputId": "07d4f415-d6a0-4e38-fbaa-e1224c83ebe2"
      },
      "id": "n2A6Gh8wFVah",
      "execution_count": 39,
      "outputs": [
        {
          "output_type": "stream",
          "name": "stdout",
          "text": [
            "Shortest paths: [0. 1. 2.]\n",
            "Predecessors: [-9999     0     0]\n"
          ]
        }
      ]
    },
    {
      "cell_type": "code",
      "source": [
        "import numpy as np\n",
        "from scipy.sparse.csgraph import dijkstra\n",
        "from scipy.sparse import csr_matrix\n",
        "\n",
        "# Create a 2D NumPy array representing a weighted directed graph\n",
        "arr = np.array([\n",
        "    [0, 1, 2, 0, 0, 0],\n",
        "    [1, 0, 0, 1, 1, 0],\n",
        "    [2, 0, 0, 0, 0, 2],\n",
        "    [0, 1, 0, 0, 0, 0],\n",
        "    [0, 1, 0, 2, 0, 1],\n",
        "    [0, 0, 2, 0, 1, 0]\n",
        "])\n",
        "\n",
        "# Convert the NumPy array to a CSR matrix\n",
        "newarr = csr_matrix(arr)\n",
        "\n",
        "# Use Dijkstra's algorithm to find the shortest paths\n",
        "# from node with index 0 to all other nodes\n",
        "shortest_paths, predecessors = dijkstra(newarr, return_predecessors=True, indices=0)\n",
        "\n",
        "# Print the graph\n",
        "print(\"Weighted Directed Graph:\")\n",
        "print(arr)\n",
        "\n",
        "# Print the result\n",
        "print(\"\\nShortest paths:\")\n",
        "print(shortest_paths)\n",
        "print(\"\\nPredecessors:\")\n",
        "print(predecessors)\n",
        "\n",
        "# Reconstruct and print the shortest paths to all nodes\n",
        "for destination_node in range(1, len(arr)):\n",
        "    path = [destination_node]\n",
        "    while predecessors[destination_node] != -9999:\n",
        "        destination_node = predecessors[destination_node]\n",
        "        path.insert(0, destination_node)\n",
        "    print(f\"Shortest path to node {path[-1]}: {path}\")\n"
      ],
      "metadata": {
        "colab": {
          "base_uri": "https://localhost:8080/"
        },
        "id": "04LiAPl5F9FF",
        "outputId": "4b7f4ddb-cb21-4922-e7c3-d985c79cd8fe"
      },
      "id": "04LiAPl5F9FF",
      "execution_count": 40,
      "outputs": [
        {
          "output_type": "stream",
          "name": "stdout",
          "text": [
            "Weighted Directed Graph:\n",
            "[[0 1 2 0 0 0]\n",
            " [1 0 0 1 1 0]\n",
            " [2 0 0 0 0 2]\n",
            " [0 1 0 0 0 0]\n",
            " [0 1 0 2 0 1]\n",
            " [0 0 2 0 1 0]]\n",
            "\n",
            "Shortest paths:\n",
            "[0. 1. 2. 2. 2. 3.]\n",
            "\n",
            "Predecessors:\n",
            "[-9999     0     0     1     1     4]\n",
            "Shortest path to node 1: [0, 1]\n",
            "Shortest path to node 2: [0, 2]\n",
            "Shortest path to node 3: [0, 1, 3]\n",
            "Shortest path to node 4: [0, 1, 4]\n",
            "Shortest path to node 5: [0, 1, 4, 5]\n"
          ]
        }
      ]
    },
    {
      "cell_type": "code",
      "source": [
        "import numpy as np\n",
        "from scipy.sparse.csgraph import floyd_warshall\n",
        "from scipy.sparse import csr_matrix\n",
        "\n",
        "# Create a 2D NumPy array representing a weighted directed graph\n",
        "arr = np.array([\n",
        "    [0, 1, 2, 0, 0, 0],\n",
        "    [1, 0, 0, 1, 1, 0],\n",
        "    [2, 0, 0, 0, 0, 2],\n",
        "    [0, 1, 0, 0, 0, 0],\n",
        "    [0, 1, 0, 2, 0, 1],\n",
        "    [0, 0, 2, 0, 1, 0]\n",
        "])\n",
        "\n",
        "# Convert the NumPy array to a CSR matrix\n",
        "graph_matrix = csr_matrix(arr)\n",
        "\n",
        "# Use Floyd-Warshall algorithm to find the shortest paths between all pairs of nodes\n",
        "all_shortest_paths, predecessors = floyd_warshall(graph_matrix, directed=True, return_predecessors=True)\n",
        "\n",
        "# Print the graph\n",
        "print(\"Weighted Directed Graph:\")\n",
        "print(arr)\n",
        "\n",
        "# Print the shortest paths between all pairs of nodes\n",
        "print(\"\\nAll Shortest Paths:\")\n",
        "print(all_shortest_paths)\n",
        "\n",
        "# Reconstruct and print the shortest paths for specific nodes\n",
        "source_node = 0\n",
        "for destination_node in range(1, len(arr)):\n",
        "    shortest_path = all_shortest_paths[source_node, destination_node]\n",
        "    print(f\"Shortest path from node {source_node} to node {destination_node}: {shortest_path}\")\n"
      ],
      "metadata": {
        "colab": {
          "base_uri": "https://localhost:8080/"
        },
        "id": "CRAyXwnbIgFZ",
        "outputId": "d741614e-d1c1-4f9e-d0c2-435f6a9fcb2e"
      },
      "id": "CRAyXwnbIgFZ",
      "execution_count": 41,
      "outputs": [
        {
          "output_type": "stream",
          "name": "stdout",
          "text": [
            "Weighted Directed Graph:\n",
            "[[0 1 2 0 0 0]\n",
            " [1 0 0 1 1 0]\n",
            " [2 0 0 0 0 2]\n",
            " [0 1 0 0 0 0]\n",
            " [0 1 0 2 0 1]\n",
            " [0 0 2 0 1 0]]\n",
            "\n",
            "All Shortest Paths:\n",
            "[[0. 1. 2. 2. 2. 3.]\n",
            " [1. 0. 3. 1. 1. 2.]\n",
            " [2. 3. 0. 4. 3. 2.]\n",
            " [2. 1. 4. 0. 2. 3.]\n",
            " [2. 1. 3. 2. 0. 1.]\n",
            " [3. 2. 2. 3. 1. 0.]]\n",
            "Shortest path from node 0 to node 1: 1.0\n",
            "Shortest path from node 0 to node 2: 2.0\n",
            "Shortest path from node 0 to node 3: 2.0\n",
            "Shortest path from node 0 to node 4: 2.0\n",
            "Shortest path from node 0 to node 5: 3.0\n"
          ]
        }
      ]
    },
    {
      "cell_type": "markdown",
      "source": [
        "### Triangulation\n",
        "A Triangulation of a polygon is to divide the polygon into multiple triangles with which we can compute an area of the polygon.\n",
        "\n",
        "A Triangulation with points means creating surface composed triangles in which all of the given points are on at least one vertex of any triangle in the surface.\n",
        "\n",
        "One method to generate these triangulations through points is the Delaunay() Triangulation."
      ],
      "metadata": {
        "id": "5NOjnbS3Kz8G"
      },
      "id": "5NOjnbS3Kz8G"
    },
    {
      "cell_type": "code",
      "source": [
        "import numpy as np\n",
        "from scipy.spatial import Delaunay\n",
        "import matplotlib.pyplot as plt\n",
        "\n",
        "points = np.array([\n",
        "  [2, 4],\n",
        "  [3, 4],\n",
        "  [3, 0],\n",
        "  [2, 2],\n",
        "  [4, 1]\n",
        "])\n",
        "\n",
        "simplices = Delaunay(points).simplices\n",
        "print(simplices)\n",
        "plt.triplot(points[:, 0], points[:, 1], simplices)\n",
        "plt.scatter(points[:, 0], points[:, 1], color='r')\n",
        "\n",
        "plt.show()"
      ],
      "metadata": {
        "colab": {
          "base_uri": "https://localhost:8080/",
          "height": 482
        },
        "id": "cPcJBIKtJ0tE",
        "outputId": "6e463f56-9d4a-43f7-a534-2bcb61040d9e"
      },
      "id": "cPcJBIKtJ0tE",
      "execution_count": 42,
      "outputs": [
        {
          "output_type": "stream",
          "name": "stdout",
          "text": [
            "[[3 2 4]\n",
            " [3 1 0]\n",
            " [1 3 4]]\n"
          ]
        },
        {
          "output_type": "display_data",
          "data": {
            "text/plain": [
              "<Figure size 640x480 with 1 Axes>"
            ],
            "image/png": "[encoded data removed]"
          },
          "metadata": {}
        }
      ]
    },
    {
      "cell_type": "markdown",
      "source": [
        "### Convex Hull\n",
        "A convex hull is the smallest polygon that covers all of the given points.\n",
        "\n",
        "Use the ConvexHull() method to create a Convex Hull."
      ],
      "metadata": {
        "id": "1r-AG45INVZ3"
      },
      "id": "1r-AG45INVZ3"
    },
    {
      "cell_type": "code",
      "source": [
        "import numpy as np\n",
        "from scipy.spatial import ConvexHull\n",
        "import matplotlib.pyplot as plt\n",
        "\n",
        "points = np.array([\n",
        "  [2, 4],\n",
        "  [3, 4],\n",
        "  [3, 0],\n",
        "  [2, 2],\n",
        "  [4, 1],\n",
        "  [1, 2],\n",
        "  [5, 0],\n",
        "  [3, 1],\n",
        "  # [1, 2],\n",
        "  [0, 2]\n",
        "])\n",
        "\n",
        "hull = ConvexHull(points)\n",
        "hull_points = hull.simplices\n",
        "\n",
        "plt.scatter(points[:,0], points[:,1])\n",
        "for simplex in hull_points:\n",
        "  plt.plot(points[simplex,0], points[simplex,1], 'k-')\n",
        "\n",
        "plt.show()"
      ],
      "metadata": {
        "colab": {
          "base_uri": "https://localhost:8080/",
          "height": 430
        },
        "id": "RfujU6nfK-kB",
        "outputId": "579dbdc6-d57d-46b3-b4e9-b927ce68ffb3"
      },
      "id": "RfujU6nfK-kB",
      "execution_count": 43,
      "outputs": [
        {
          "output_type": "display_data",
          "data": {
            "text/plain": [
              "<Figure size 640x480 with 1 Axes>"
            ],
            "image/png": "[encoded data removed]"
          },
          "metadata": {}
        }
      ]
    },
    {
      "cell_type": "markdown",
      "source": [
        "#### Singular value Decomposition"
      ],
      "metadata": {
        "id": "iGail9djD3H3"
      },
      "id": "iGail9djD3H3"
    },
    {
      "cell_type": "code",
      "source": [
        "import numpy\n",
        "x = numpy.random.randn(2, 3)\n",
        "for i, m in enumerate(numpy.linalg.svd(x)):\n",
        "  if i==0:\n",
        "    print(\"Orthogonal U\\n\",m)\n",
        "  elif i==1:\n",
        "    print(\"Singular values E \\n\",m)\n",
        "  else:\n",
        "    print(\"Orthogonal V^T\\n\",m)"
      ],
      "metadata": {
        "id": "XACcw1anzM69",
        "colab": {
          "base_uri": "https://localhost:8080/"
        },
        "outputId": "294198fb-3440-4d70-e280-b503b9fec416"
      },
      "execution_count": 44,
      "outputs": [
        {
          "output_type": "stream",
          "name": "stdout",
          "text": [
            "Orthogonal U\n",
            " [[-0.73182106 -0.68149683]\n",
            " [-0.68149683  0.73182106]]\n",
            "Singular values E \n",
            " [1.6175433  0.93358029]\n",
            "Orthogonal V^T\n",
            " [[-0.35699944 -0.9310373   0.07563696]\n",
            " [-0.12098202 -0.03420516 -0.9920652 ]\n",
            " [-0.92623688  0.36331743  0.10042755]]\n"
          ]
        }
      ],
      "id": "XACcw1anzM69"
    },
    {
      "cell_type": "code",
      "source": [],
      "metadata": {
        "id": "k58jp5ttDyuY"
      },
      "id": "k58jp5ttDyuY",
      "execution_count": 44,
      "outputs": []
    }
  ],
  "metadata": {
    "kernelspec": {
      "display_name": "Python 3",
      "language": "python",
      "name": "python3"
    },
    "language_info": {
      "codemirror_mode": {
        "name": "ipython",
        "version": 3
      },
      "file_extension": ".py",
      "mimetype": "text/x-python",
      "name": "python",
      "nbconvert_exporter": "python",
      "pygments_lexer": "ipython3",
      "version": "3.10.12"
    },
    "papermill": {
      "default_parameters": {},
      "duration": 36.545463,
      "end_time": "2023-08-05T11:34:13.768320",
      "environment_variables": {},
      "exception": null,
      "input_path": "__notebook__.ipynb",
      "output_path": "__notebook__.ipynb",
      "parameters": {},
      "start_time": "2023-08-05T11:33:37.222857",
      "version": "2.4.0"
    },
    "colab": {
      "provenance": []
    }
  },
  "nbformat": 4,
  "nbformat_minor": 5
}