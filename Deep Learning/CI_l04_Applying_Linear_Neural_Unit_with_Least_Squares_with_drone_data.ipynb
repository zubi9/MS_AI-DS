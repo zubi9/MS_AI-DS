{
  "cells": [
    {
      "cell_type": "markdown",
      "id": "71fd4d99-00f8-436f-89f9-c9c63e69b4c7",
      "metadata": {
        "id": "71fd4d99-00f8-436f-89f9-c9c63e69b4c7"
      },
      "source": [
        "## Linear Neural Unit with Least Squares\n",
        "\n",
        "LNU ... Linear Neural Unit\n",
        "\n",
        "$\\tilde{\\textbf{y}} =\\textbf{X}^T\\cdot\\textbf{w}^T$\n",
        "\n",
        "where $\\tilde{\\textbf{y}}$ is vector (1-D array) of all outputs of a neuron (in code it is as $y_n$)\n",
        "\n",
        "$\\textbf{w}^T=inv(\\textbf{X}^T \\cdot \\textbf{X})\\cdot \\textbf{X}^T \\cdot \\textbf{y}\n",
        "$\n"
      ]
    },
    {
      "cell_type": "markdown",
      "id": "f04079fb-f191-4ea8-aeef-bf9e6e65fa17",
      "metadata": {
        "id": "f04079fb-f191-4ea8-aeef-bf9e6e65fa17"
      },
      "source": [
        "In the example bellow, output $y$ is calculated using two input variables $u_1$ and $u_2$ with their time embedding of 2 samples (i..e two samples back of $u_1$ and $u_2$).\n",
        "So the feature vector is $\\textbf{x}=[1 \\ u_1(k-1) \\  u_1(k-2) \\ u_1(k-1) \\ u_2(k-2)]$.\n",
        "Linear neuron then calculates every single $y(k)$ as $y(k)=\\textbf{w}\\cdot\\textbf{x}$ and for all of them as above.\n",
        "\n",
        "In the example bellow, notice the data normalization and denormalizaton. Also, notice that the linear neuron can not learn the noise (beacuse the noise is a nonlinear phenomenom), and because the feature vector here corresponds to data behavior, then the trained linear neuron is able to learn proper behavior from noisy data (if we used nonlinear neuron, it will learn noise as well, which will be incorrect in this case)"
      ]
    },
    {
      "cell_type": "code",
      "execution_count": null,
      "id": "2127e1dc-aeb1-43d6-af59-9aab2d7e1968",
      "metadata": {
        "id": "2127e1dc-aeb1-43d6-af59-9aab2d7e1968"
      },
      "outputs": [],
      "source": [
        "#%matplotlib widget\n",
        "from numpy import *\n",
        "from matplotlib.pyplot import *\n",
        "## measuring data\n",
        "#N=100\n",
        "nu1=2\n",
        "nu2=2\n",
        "ny=2\n",
        "n=1+nu1+nu2\n",
        "\n",
        "t=arange(0,60,.1)\n",
        "N=len(t)\n",
        "u1=sin(2*pi/6*t)\n",
        "u2=random.randn(N)\n",
        "y=zeros(N)\n",
        "X=ones((N,n))\n",
        "ytrue=zeros(N)\n",
        "\n"
      ]
    },
    {
      "cell_type": "code",
      "source": [
        "X.shape"
      ],
      "metadata": {
        "colab": {
          "base_uri": "https://localhost:8080/"
        },
        "id": "OZIQW-8tLdu4",
        "outputId": "4cacc98b-f5a4-4f4b-fcbe-60ebd690ec5b"
      },
      "id": "OZIQW-8tLdu4",
      "execution_count": null,
      "outputs": [
        {
          "output_type": "execute_result",
          "data": {
            "text/plain": [
              "(600, 5)"
            ]
          },
          "metadata": {},
          "execution_count": 24
        }
      ]
    },
    {
      "cell_type": "code",
      "source": [
        "pd.DataFrame(X)"
      ],
      "metadata": {
        "colab": {
          "base_uri": "https://localhost:8080/",
          "height": 423
        },
        "id": "0uqIq8ZLLe7b",
        "outputId": "26bbcadf-1ac3-4165-ce35-b6d0a80ed01a"
      },
      "id": "0uqIq8ZLLe7b",
      "execution_count": null,
      "outputs": [
        {
          "output_type": "execute_result",
          "data": {
            "text/plain": [
              "       0    1    2    3    4\n",
              "0    1.0  1.0  1.0  1.0  1.0\n",
              "1    1.0  1.0  1.0  1.0  1.0\n",
              "2    1.0  1.0  1.0  1.0  1.0\n",
              "3    1.0  1.0  1.0  1.0  1.0\n",
              "4    1.0  1.0  1.0  1.0  1.0\n",
              "..   ...  ...  ...  ...  ...\n",
              "595  1.0  1.0  1.0  1.0  1.0\n",
              "596  1.0  1.0  1.0  1.0  1.0\n",
              "597  1.0  1.0  1.0  1.0  1.0\n",
              "598  1.0  1.0  1.0  1.0  1.0\n",
              "599  1.0  1.0  1.0  1.0  1.0\n",
              "\n",
              "[600 rows x 5 columns]"
            ],
            "text/html": [
              "\n",
              "  <div id=\"df-eb0bd3a5-468a-477d-9088-852377e550e0\" class=\"colab-df-container\">\n",
              "    <div>\n",
              "<style scoped>\n",
              "    .dataframe tbody tr th:only-of-type {\n",
              "        vertical-align: middle;\n",
              "    }\n",
              "\n",
              "    .dataframe tbody tr th {\n",
              "        vertical-align: top;\n",
              "    }\n",
              "\n",
              "    .dataframe thead th {\n",
              "        text-align: right;\n",
              "    }\n",
              "</style>\n",
              "<table border=\"1\" class=\"dataframe\">\n",
              "  <thead>\n",
              "    <tr style=\"text-align: right;\">\n",
              "      <th></th>\n",
              "      <th>0</th>\n",
              "      <th>1</th>\n",
              "      <th>2</th>\n",
              "      <th>3</th>\n",
              "      <th>4</th>\n",
              "    </tr>\n",
              "  </thead>\n",
              "  <tbody>\n",
              "    <tr>\n",
              "      <th>0</th>\n",
              "      <td>1.0</td>\n",
              "      <td>1.0</td>\n",
              "      <td>1.0</td>\n",
              "      <td>1.0</td>\n",
              "      <td>1.0</td>\n",
              "    </tr>\n",
              "    <tr>\n",
              "      <th>1</th>\n",
              "      <td>1.0</td>\n",
              "      <td>1.0</td>\n",
              "      <td>1.0</td>\n",
              "      <td>1.0</td>\n",
              "      <td>1.0</td>\n",
              "    </tr>\n",
              "    <tr>\n",
              "      <th>2</th>\n",
              "      <td>1.0</td>\n",
              "      <td>1.0</td>\n",
              "      <td>1.0</td>\n",
              "      <td>1.0</td>\n",
              "      <td>1.0</td>\n",
              "    </tr>\n",
              "    <tr>\n",
              "      <th>3</th>\n",
              "      <td>1.0</td>\n",
              "      <td>1.0</td>\n",
              "      <td>1.0</td>\n",
              "      <td>1.0</td>\n",
              "      <td>1.0</td>\n",
              "    </tr>\n",
              "    <tr>\n",
              "      <th>4</th>\n",
              "      <td>1.0</td>\n",
              "      <td>1.0</td>\n",
              "      <td>1.0</td>\n",
              "      <td>1.0</td>\n",
              "      <td>1.0</td>\n",
              "    </tr>\n",
              "    <tr>\n",
              "      <th>...</th>\n",
              "      <td>...</td>\n",
              "      <td>...</td>\n",
              "      <td>...</td>\n",
              "      <td>...</td>\n",
              "      <td>...</td>\n",
              "    </tr>\n",
              "    <tr>\n",
              "      <th>595</th>\n",
              "      <td>1.0</td>\n",
              "      <td>1.0</td>\n",
              "      <td>1.0</td>\n",
              "      <td>1.0</td>\n",
              "      <td>1.0</td>\n",
              "    </tr>\n",
              "    <tr>\n",
              "      <th>596</th>\n",
              "      <td>1.0</td>\n",
              "      <td>1.0</td>\n",
              "      <td>1.0</td>\n",
              "      <td>1.0</td>\n",
              "      <td>1.0</td>\n",
              "    </tr>\n",
              "    <tr>\n",
              "      <th>597</th>\n",
              "      <td>1.0</td>\n",
              "      <td>1.0</td>\n",
              "      <td>1.0</td>\n",
              "      <td>1.0</td>\n",
              "      <td>1.0</td>\n",
              "    </tr>\n",
              "    <tr>\n",
              "      <th>598</th>\n",
              "      <td>1.0</td>\n",
              "      <td>1.0</td>\n",
              "      <td>1.0</td>\n",
              "      <td>1.0</td>\n",
              "      <td>1.0</td>\n",
              "    </tr>\n",
              "    <tr>\n",
              "      <th>599</th>\n",
              "      <td>1.0</td>\n",
              "      <td>1.0</td>\n",
              "      <td>1.0</td>\n",
              "      <td>1.0</td>\n",
              "      <td>1.0</td>\n",
              "    </tr>\n",
              "  </tbody>\n",
              "</table>\n",
              "<p>600 rows × 5 columns</p>\n",
              "</div>\n",
              "    <div class=\"colab-df-buttons\">\n",
              "\n",
              "  <div class=\"colab-df-container\">\n",
              "    <button class=\"colab-df-convert\" onclick=\"convertToInteractive('df-eb0bd3a5-468a-477d-9088-852377e550e0')\"\n",
              "            title=\"Convert this dataframe to an interactive table.\"\n",
              "            style=\"display:none;\">\n",
              "\n",
              "  <svg xmlns=\"http://www.w3.org/2000/svg\" height=\"24px\" viewBox=\"0 -960 960 960\">\n",
              "    <path d=\"M120-120v-720h720v720H120Zm60-500h600v-160H180v160Zm220 220h160v-160H400v160Zm0 220h160v-160H400v160ZM180-400h160v-160H180v160Zm440 0h160v-160H620v160ZM180-180h160v-160H180v160Zm440 0h160v-160H620v160Z\"/>\n",
              "  </svg>\n",
              "    </button>\n",
              "\n",
              "  <style>\n",
              "    .colab-df-container {\n",
              "      display:flex;\n",
              "      gap: 12px;\n",
              "    }\n",
              "\n",
              "    .colab-df-convert {\n",
              "      background-color: #E8F0FE;\n",
              "      border: none;\n",
              "      border-radius: 50%;\n",
              "      cursor: pointer;\n",
              "      display: none;\n",
              "      fill: #1967D2;\n",
              "      height: 32px;\n",
              "      padding: 0 0 0 0;\n",
              "      width: 32px;\n",
              "    }\n",
              "\n",
              "    .colab-df-convert:hover {\n",
              "      background-color: #E2EBFA;\n",
              "      box-shadow: 0px 1px 2px rgba(60, 64, 67, 0.3), 0px 1px 3px 1px rgba(60, 64, 67, 0.15);\n",
              "      fill: #174EA6;\n",
              "    }\n",
              "\n",
              "    .colab-df-buttons div {\n",
              "      margin-bottom: 4px;\n",
              "    }\n",
              "\n",
              "    [theme=dark] .colab-df-convert {\n",
              "      background-color: #3B4455;\n",
              "      fill: #D2E3FC;\n",
              "    }\n",
              "\n",
              "    [theme=dark] .colab-df-convert:hover {\n",
              "      background-color: #434B5C;\n",
              "      box-shadow: 0px 1px 3px 1px rgba(0, 0, 0, 0.15);\n",
              "      filter: drop-shadow(0px 1px 2px rgba(0, 0, 0, 0.3));\n",
              "      fill: #FFFFFF;\n",
              "    }\n",
              "  </style>\n",
              "\n",
              "    <script>\n",
              "      const buttonEl =\n",
              "        document.querySelector('#df-eb0bd3a5-468a-477d-9088-852377e550e0 button.colab-df-convert');\n",
              "      buttonEl.style.display =\n",
              "        google.colab.kernel.accessAllowed ? 'block' : 'none';\n",
              "\n",
              "      async function convertToInteractive(key) {\n",
              "        const element = document.querySelector('#df-eb0bd3a5-468a-477d-9088-852377e550e0');\n",
              "        const dataTable =\n",
              "          await google.colab.kernel.invokeFunction('convertToInteractive',\n",
              "                                                    [key], {});\n",
              "        if (!dataTable) return;\n",
              "\n",
              "        const docLinkHtml = 'Like what you see? Visit the ' +\n",
              "          '<a target=\"_blank\" href=https://colab.research.google.com/notebooks/data_table.ipynb>data table notebook</a>'\n",
              "          + ' to learn more about interactive tables.';\n",
              "        element.innerHTML = '';\n",
              "        dataTable['output_type'] = 'display_data';\n",
              "        await google.colab.output.renderOutput(dataTable, element);\n",
              "        const docLink = document.createElement('div');\n",
              "        docLink.innerHTML = docLinkHtml;\n",
              "        element.appendChild(docLink);\n",
              "      }\n",
              "    </script>\n",
              "  </div>\n",
              "\n",
              "\n",
              "<div id=\"df-c0ce01c8-0f2b-490a-b83b-7adfd6b1708f\">\n",
              "  <button class=\"colab-df-quickchart\" onclick=\"quickchart('df-c0ce01c8-0f2b-490a-b83b-7adfd6b1708f')\"\n",
              "            title=\"Suggest charts.\"\n",
              "            style=\"display:none;\">\n",
              "\n",
              "<svg xmlns=\"http://www.w3.org/2000/svg\" height=\"24px\"viewBox=\"0 0 24 24\"\n",
              "     width=\"24px\">\n",
              "    <g>\n",
              "        <path d=\"M19 3H5c-1.1 0-2 .9-2 2v14c0 1.1.9 2 2 2h14c1.1 0 2-.9 2-2V5c0-1.1-.9-2-2-2zM9 17H7v-7h2v7zm4 0h-2V7h2v10zm4 0h-2v-4h2v4z\"/>\n",
              "    </g>\n",
              "</svg>\n",
              "  </button>\n",
              "\n",
              "<style>\n",
              "  .colab-df-quickchart {\n",
              "      --bg-color: #E8F0FE;\n",
              "      --fill-color: #1967D2;\n",
              "      --hover-bg-color: #E2EBFA;\n",
              "      --hover-fill-color: #174EA6;\n",
              "      --disabled-fill-color: #AAA;\n",
              "      --disabled-bg-color: #DDD;\n",
              "  }\n",
              "\n",
              "  [theme=dark] .colab-df-quickchart {\n",
              "      --bg-color: #3B4455;\n",
              "      --fill-color: #D2E3FC;\n",
              "      --hover-bg-color: #434B5C;\n",
              "      --hover-fill-color: #FFFFFF;\n",
              "      --disabled-bg-color: #3B4455;\n",
              "      --disabled-fill-color: #666;\n",
              "  }\n",
              "\n",
              "  .colab-df-quickchart {\n",
              "    background-color: var(--bg-color);\n",
              "    border: none;\n",
              "    border-radius: 50%;\n",
              "    cursor: pointer;\n",
              "    display: none;\n",
              "    fill: var(--fill-color);\n",
              "    height: 32px;\n",
              "    padding: 0;\n",
              "    width: 32px;\n",
              "  }\n",
              "\n",
              "  .colab-df-quickchart:hover {\n",
              "    background-color: var(--hover-bg-color);\n",
              "    box-shadow: 0 1px 2px rgba(60, 64, 67, 0.3), 0 1px 3px 1px rgba(60, 64, 67, 0.15);\n",
              "    fill: var(--button-hover-fill-color);\n",
              "  }\n",
              "\n",
              "  .colab-df-quickchart-complete:disabled,\n",
              "  .colab-df-quickchart-complete:disabled:hover {\n",
              "    background-color: var(--disabled-bg-color);\n",
              "    fill: var(--disabled-fill-color);\n",
              "    box-shadow: none;\n",
              "  }\n",
              "\n",
              "  .colab-df-spinner {\n",
              "    border: 2px solid var(--fill-color);\n",
              "    border-color: transparent;\n",
              "    border-bottom-color: var(--fill-color);\n",
              "    animation:\n",
              "      spin 1s steps(1) infinite;\n",
              "  }\n",
              "\n",
              "  @keyframes spin {\n",
              "    0% {\n",
              "      border-color: transparent;\n",
              "      border-bottom-color: var(--fill-color);\n",
              "      border-left-color: var(--fill-color);\n",
              "    }\n",
              "    20% {\n",
              "      border-color: transparent;\n",
              "      border-left-color: var(--fill-color);\n",
              "      border-top-color: var(--fill-color);\n",
              "    }\n",
              "    30% {\n",
              "      border-color: transparent;\n",
              "      border-left-color: var(--fill-color);\n",
              "      border-top-color: var(--fill-color);\n",
              "      border-right-color: var(--fill-color);\n",
              "    }\n",
              "    40% {\n",
              "      border-color: transparent;\n",
              "      border-right-color: var(--fill-color);\n",
              "      border-top-color: var(--fill-color);\n",
              "    }\n",
              "    60% {\n",
              "      border-color: transparent;\n",
              "      border-right-color: var(--fill-color);\n",
              "    }\n",
              "    80% {\n",
              "      border-color: transparent;\n",
              "      border-right-color: var(--fill-color);\n",
              "      border-bottom-color: var(--fill-color);\n",
              "    }\n",
              "    90% {\n",
              "      border-color: transparent;\n",
              "      border-bottom-color: var(--fill-color);\n",
              "    }\n",
              "  }\n",
              "</style>\n",
              "\n",
              "  <script>\n",
              "    async function quickchart(key) {\n",
              "      const quickchartButtonEl =\n",
              "        document.querySelector('#' + key + ' button');\n",
              "      quickchartButtonEl.disabled = true;  // To prevent multiple clicks.\n",
              "      quickchartButtonEl.classList.add('colab-df-spinner');\n",
              "      try {\n",
              "        const charts = await google.colab.kernel.invokeFunction(\n",
              "            'suggestCharts', [key], {});\n",
              "      } catch (error) {\n",
              "        console.error('Error during call to suggestCharts:', error);\n",
              "      }\n",
              "      quickchartButtonEl.classList.remove('colab-df-spinner');\n",
              "      quickchartButtonEl.classList.add('colab-df-quickchart-complete');\n",
              "    }\n",
              "    (() => {\n",
              "      let quickchartButtonEl =\n",
              "        document.querySelector('#df-c0ce01c8-0f2b-490a-b83b-7adfd6b1708f button');\n",
              "      quickchartButtonEl.style.display =\n",
              "        google.colab.kernel.accessAllowed ? 'block' : 'none';\n",
              "    })();\n",
              "  </script>\n",
              "</div>\n",
              "    </div>\n",
              "  </div>\n"
            ]
          },
          "metadata": {},
          "execution_count": 30
        }
      ]
    },
    {
      "cell_type": "code",
      "source": [
        "u1.shape"
      ],
      "metadata": {
        "colab": {
          "base_uri": "https://localhost:8080/"
        },
        "id": "LRVv9ehKLf4-",
        "outputId": "cfd5cd54-084d-4ba9-c493-3ff1fbf03a0c"
      },
      "id": "LRVv9ehKLf4-",
      "execution_count": null,
      "outputs": [
        {
          "output_type": "execute_result",
          "data": {
            "text/plain": [
              "(600,)"
            ]
          },
          "metadata": {},
          "execution_count": 27
        }
      ]
    },
    {
      "cell_type": "code",
      "source": [
        "u2.shape"
      ],
      "metadata": {
        "colab": {
          "base_uri": "https://localhost:8080/"
        },
        "id": "CbIzH4FtLrlG",
        "outputId": "fb1c9a09-47aa-4f45-a626-e97d7f121f48"
      },
      "id": "CbIzH4FtLrlG",
      "execution_count": null,
      "outputs": [
        {
          "output_type": "execute_result",
          "data": {
            "text/plain": [
              "(600,)"
            ]
          },
          "metadata": {},
          "execution_count": 28
        }
      ]
    },
    {
      "cell_type": "code",
      "source": [
        "for k in range(2,N):\n",
        "  ytrue[k]=2+3*u1[k-1]-2*u1[k-2]+2*u2[k-1]-2*u2[k-2]  # data behavior\n",
        "  y[k]=ytrue[k]+random.randn()   # \"measuring\" real output with noise\n"
      ],
      "metadata": {
        "id": "2q_NmyCbrCxv"
      },
      "id": "2q_NmyCbrCxv",
      "execution_count": null,
      "outputs": []
    },
    {
      "cell_type": "code",
      "source": [
        "ytrue.shape"
      ],
      "metadata": {
        "colab": {
          "base_uri": "https://localhost:8080/"
        },
        "id": "R3NOK2DqrEYt",
        "outputId": "1d36d16f-8e3a-4d02-f03d-fb6c83375fc8"
      },
      "id": "R3NOK2DqrEYt",
      "execution_count": null,
      "outputs": [
        {
          "output_type": "execute_result",
          "data": {
            "text/plain": [
              "(600,)"
            ]
          },
          "metadata": {},
          "execution_count": 34
        }
      ]
    },
    {
      "cell_type": "code",
      "source": [
        "y.shape"
      ],
      "metadata": {
        "colab": {
          "base_uri": "https://localhost:8080/"
        },
        "id": "38DogS3urgOZ",
        "outputId": "96d56b44-5780-45f5-d142-ac84ee4a244d"
      },
      "id": "38DogS3urgOZ",
      "execution_count": null,
      "outputs": [
        {
          "output_type": "execute_result",
          "data": {
            "text/plain": [
              "(600,)"
            ]
          },
          "metadata": {},
          "execution_count": 36
        }
      ]
    },
    {
      "cell_type": "code",
      "source": [
        "u1.max()"
      ],
      "metadata": {
        "colab": {
          "base_uri": "https://localhost:8080/"
        },
        "id": "4s9BWFU-suEG",
        "outputId": "06958c6a-65ff-4264-d158-49d33ca9d0f7"
      },
      "id": "4s9BWFU-suEG",
      "execution_count": null,
      "outputs": [
        {
          "output_type": "execute_result",
          "data": {
            "text/plain": [
              "0.4714045207910316"
            ]
          },
          "metadata": {},
          "execution_count": 46
        }
      ]
    },
    {
      "cell_type": "code",
      "source": [
        "u2.shape"
      ],
      "metadata": {
        "colab": {
          "base_uri": "https://localhost:8080/"
        },
        "id": "svk9DBcGsu4m",
        "outputId": "bc37ba15-21c8-47f3-d142-289fd988486b"
      },
      "id": "svk9DBcGsu4m",
      "execution_count": null,
      "outputs": [
        {
          "output_type": "execute_result",
          "data": {
            "text/plain": [
              "(600,)"
            ]
          },
          "metadata": {},
          "execution_count": 39
        }
      ]
    },
    {
      "cell_type": "code",
      "source": [
        "\n",
        "u1=(u1-mean(u1))/std(u1)/3\n",
        "u2=(u2-mean(u2))/std(u2)/3\n"
      ],
      "metadata": {
        "id": "X6Xg5hG3LIDG"
      },
      "id": "X6Xg5hG3LIDG",
      "execution_count": null,
      "outputs": []
    },
    {
      "cell_type": "code",
      "source": [
        "\n",
        "meany=mean(y)\n",
        "stdy=std(y)\n",
        "\n",
        "y=(y-meany)/stdy/3\n"
      ],
      "metadata": {
        "id": "xOjZI9I1sszb"
      },
      "id": "xOjZI9I1sszb",
      "execution_count": null,
      "outputs": []
    },
    {
      "cell_type": "code",
      "source": [
        "y.shape"
      ],
      "metadata": {
        "colab": {
          "base_uri": "https://localhost:8080/"
        },
        "id": "lvaRi-1Otb0o",
        "outputId": "7d965c26-ecf7-417d-d99e-987f82723411"
      },
      "id": "lvaRi-1Otb0o",
      "execution_count": null,
      "outputs": [
        {
          "output_type": "execute_result",
          "data": {
            "text/plain": [
              "(600,)"
            ]
          },
          "metadata": {},
          "execution_count": 53
        }
      ]
    },
    {
      "cell_type": "code",
      "source": [
        "\n",
        "for k in range(2,N):\n",
        "    #filling X matrix\n",
        "    X[k,1]=u1[k-1]\n",
        "    X[k,2]=u1[k-2]\n",
        "    X[k,3]=u2[k-1]\n",
        "    X[k,4]=u2[k-2]\n"
      ],
      "metadata": {
        "id": "O4H9h-kZsnqO"
      },
      "id": "O4H9h-kZsnqO",
      "execution_count": null,
      "outputs": []
    },
    {
      "cell_type": "code",
      "source": [
        "pd.DataFrame(X)"
      ],
      "metadata": {
        "colab": {
          "base_uri": "https://localhost:8080/",
          "height": 423
        },
        "id": "koRd85DEtgH5",
        "outputId": "6ce56331-cb22-4bc4-cc89-c074e6c42bc0"
      },
      "id": "koRd85DEtgH5",
      "execution_count": null,
      "outputs": [
        {
          "output_type": "execute_result",
          "data": {
            "text/plain": [
              "       0         1             2         3         4\n",
              "0    1.0  1.000000  1.000000e+00  1.000000  1.000000\n",
              "1    1.0  1.000000  1.000000e+00  1.000000  1.000000\n",
              "2    1.0  0.049275  1.856659e-17 -0.205325  0.025090\n",
              "3    1.0  0.098011  4.927519e-02  0.591091 -0.205325\n",
              "4    1.0  0.145672  9.801051e-02  0.155580  0.591091\n",
              "..   ...       ...           ...       ...       ...\n",
              "595  1.0 -0.277085 -3.154312e-01 -0.108873 -0.350882\n",
              "596  1.0 -0.235702 -2.770846e-01  0.112694 -0.108873\n",
              "597  1.0 -0.191737 -2.357023e-01  0.202511  0.112694\n",
              "598  1.0 -0.145672 -1.917375e-01 -0.135573  0.202511\n",
              "599  1.0 -0.098011 -1.456720e-01  0.155433 -0.135573\n",
              "\n",
              "[600 rows x 5 columns]"
            ],
            "text/html": [
              "\n",
              "  <div id=\"df-3099f2c9-87d6-4b07-973f-4ae12297d353\" class=\"colab-df-container\">\n",
              "    <div>\n",
              "<style scoped>\n",
              "    .dataframe tbody tr th:only-of-type {\n",
              "        vertical-align: middle;\n",
              "    }\n",
              "\n",
              "    .dataframe tbody tr th {\n",
              "        vertical-align: top;\n",
              "    }\n",
              "\n",
              "    .dataframe thead th {\n",
              "        text-align: right;\n",
              "    }\n",
              "</style>\n",
              "<table border=\"1\" class=\"dataframe\">\n",
              "  <thead>\n",
              "    <tr style=\"text-align: right;\">\n",
              "      <th></th>\n",
              "      <th>0</th>\n",
              "      <th>1</th>\n",
              "      <th>2</th>\n",
              "      <th>3</th>\n",
              "      <th>4</th>\n",
              "    </tr>\n",
              "  </thead>\n",
              "  <tbody>\n",
              "    <tr>\n",
              "      <th>0</th>\n",
              "      <td>1.0</td>\n",
              "      <td>1.000000</td>\n",
              "      <td>1.000000e+00</td>\n",
              "      <td>1.000000</td>\n",
              "      <td>1.000000</td>\n",
              "    </tr>\n",
              "    <tr>\n",
              "      <th>1</th>\n",
              "      <td>1.0</td>\n",
              "      <td>1.000000</td>\n",
              "      <td>1.000000e+00</td>\n",
              "      <td>1.000000</td>\n",
              "      <td>1.000000</td>\n",
              "    </tr>\n",
              "    <tr>\n",
              "      <th>2</th>\n",
              "      <td>1.0</td>\n",
              "      <td>0.049275</td>\n",
              "      <td>1.856659e-17</td>\n",
              "      <td>-0.205325</td>\n",
              "      <td>0.025090</td>\n",
              "    </tr>\n",
              "    <tr>\n",
              "      <th>3</th>\n",
              "      <td>1.0</td>\n",
              "      <td>0.098011</td>\n",
              "      <td>4.927519e-02</td>\n",
              "      <td>0.591091</td>\n",
              "      <td>-0.205325</td>\n",
              "    </tr>\n",
              "    <tr>\n",
              "      <th>4</th>\n",
              "      <td>1.0</td>\n",
              "      <td>0.145672</td>\n",
              "      <td>9.801051e-02</td>\n",
              "      <td>0.155580</td>\n",
              "      <td>0.591091</td>\n",
              "    </tr>\n",
              "    <tr>\n",
              "      <th>...</th>\n",
              "      <td>...</td>\n",
              "      <td>...</td>\n",
              "      <td>...</td>\n",
              "      <td>...</td>\n",
              "      <td>...</td>\n",
              "    </tr>\n",
              "    <tr>\n",
              "      <th>595</th>\n",
              "      <td>1.0</td>\n",
              "      <td>-0.277085</td>\n",
              "      <td>-3.154312e-01</td>\n",
              "      <td>-0.108873</td>\n",
              "      <td>-0.350882</td>\n",
              "    </tr>\n",
              "    <tr>\n",
              "      <th>596</th>\n",
              "      <td>1.0</td>\n",
              "      <td>-0.235702</td>\n",
              "      <td>-2.770846e-01</td>\n",
              "      <td>0.112694</td>\n",
              "      <td>-0.108873</td>\n",
              "    </tr>\n",
              "    <tr>\n",
              "      <th>597</th>\n",
              "      <td>1.0</td>\n",
              "      <td>-0.191737</td>\n",
              "      <td>-2.357023e-01</td>\n",
              "      <td>0.202511</td>\n",
              "      <td>0.112694</td>\n",
              "    </tr>\n",
              "    <tr>\n",
              "      <th>598</th>\n",
              "      <td>1.0</td>\n",
              "      <td>-0.145672</td>\n",
              "      <td>-1.917375e-01</td>\n",
              "      <td>-0.135573</td>\n",
              "      <td>0.202511</td>\n",
              "    </tr>\n",
              "    <tr>\n",
              "      <th>599</th>\n",
              "      <td>1.0</td>\n",
              "      <td>-0.098011</td>\n",
              "      <td>-1.456720e-01</td>\n",
              "      <td>0.155433</td>\n",
              "      <td>-0.135573</td>\n",
              "    </tr>\n",
              "  </tbody>\n",
              "</table>\n",
              "<p>600 rows × 5 columns</p>\n",
              "</div>\n",
              "    <div class=\"colab-df-buttons\">\n",
              "\n",
              "  <div class=\"colab-df-container\">\n",
              "    <button class=\"colab-df-convert\" onclick=\"convertToInteractive('df-3099f2c9-87d6-4b07-973f-4ae12297d353')\"\n",
              "            title=\"Convert this dataframe to an interactive table.\"\n",
              "            style=\"display:none;\">\n",
              "\n",
              "  <svg xmlns=\"http://www.w3.org/2000/svg\" height=\"24px\" viewBox=\"0 -960 960 960\">\n",
              "    <path d=\"M120-120v-720h720v720H120Zm60-500h600v-160H180v160Zm220 220h160v-160H400v160Zm0 220h160v-160H400v160ZM180-400h160v-160H180v160Zm440 0h160v-160H620v160ZM180-180h160v-160H180v160Zm440 0h160v-160H620v160Z\"/>\n",
              "  </svg>\n",
              "    </button>\n",
              "\n",
              "  <style>\n",
              "    .colab-df-container {\n",
              "      display:flex;\n",
              "      gap: 12px;\n",
              "    }\n",
              "\n",
              "    .colab-df-convert {\n",
              "      background-color: #E8F0FE;\n",
              "      border: none;\n",
              "      border-radius: 50%;\n",
              "      cursor: pointer;\n",
              "      display: none;\n",
              "      fill: #1967D2;\n",
              "      height: 32px;\n",
              "      padding: 0 0 0 0;\n",
              "      width: 32px;\n",
              "    }\n",
              "\n",
              "    .colab-df-convert:hover {\n",
              "      background-color: #E2EBFA;\n",
              "      box-shadow: 0px 1px 2px rgba(60, 64, 67, 0.3), 0px 1px 3px 1px rgba(60, 64, 67, 0.15);\n",
              "      fill: #174EA6;\n",
              "    }\n",
              "\n",
              "    .colab-df-buttons div {\n",
              "      margin-bottom: 4px;\n",
              "    }\n",
              "\n",
              "    [theme=dark] .colab-df-convert {\n",
              "      background-color: #3B4455;\n",
              "      fill: #D2E3FC;\n",
              "    }\n",
              "\n",
              "    [theme=dark] .colab-df-convert:hover {\n",
              "      background-color: #434B5C;\n",
              "      box-shadow: 0px 1px 3px 1px rgba(0, 0, 0, 0.15);\n",
              "      filter: drop-shadow(0px 1px 2px rgba(0, 0, 0, 0.3));\n",
              "      fill: #FFFFFF;\n",
              "    }\n",
              "  </style>\n",
              "\n",
              "    <script>\n",
              "      const buttonEl =\n",
              "        document.querySelector('#df-3099f2c9-87d6-4b07-973f-4ae12297d353 button.colab-df-convert');\n",
              "      buttonEl.style.display =\n",
              "        google.colab.kernel.accessAllowed ? 'block' : 'none';\n",
              "\n",
              "      async function convertToInteractive(key) {\n",
              "        const element = document.querySelector('#df-3099f2c9-87d6-4b07-973f-4ae12297d353');\n",
              "        const dataTable =\n",
              "          await google.colab.kernel.invokeFunction('convertToInteractive',\n",
              "                                                    [key], {});\n",
              "        if (!dataTable) return;\n",
              "\n",
              "        const docLinkHtml = 'Like what you see? Visit the ' +\n",
              "          '<a target=\"_blank\" href=https://colab.research.google.com/notebooks/data_table.ipynb>data table notebook</a>'\n",
              "          + ' to learn more about interactive tables.';\n",
              "        element.innerHTML = '';\n",
              "        dataTable['output_type'] = 'display_data';\n",
              "        await google.colab.output.renderOutput(dataTable, element);\n",
              "        const docLink = document.createElement('div');\n",
              "        docLink.innerHTML = docLinkHtml;\n",
              "        element.appendChild(docLink);\n",
              "      }\n",
              "    </script>\n",
              "  </div>\n",
              "\n",
              "\n",
              "<div id=\"df-165e2db9-e444-4fed-a0d4-29419f79c865\">\n",
              "  <button class=\"colab-df-quickchart\" onclick=\"quickchart('df-165e2db9-e444-4fed-a0d4-29419f79c865')\"\n",
              "            title=\"Suggest charts.\"\n",
              "            style=\"display:none;\">\n",
              "\n",
              "<svg xmlns=\"http://www.w3.org/2000/svg\" height=\"24px\"viewBox=\"0 0 24 24\"\n",
              "     width=\"24px\">\n",
              "    <g>\n",
              "        <path d=\"M19 3H5c-1.1 0-2 .9-2 2v14c0 1.1.9 2 2 2h14c1.1 0 2-.9 2-2V5c0-1.1-.9-2-2-2zM9 17H7v-7h2v7zm4 0h-2V7h2v10zm4 0h-2v-4h2v4z\"/>\n",
              "    </g>\n",
              "</svg>\n",
              "  </button>\n",
              "\n",
              "<style>\n",
              "  .colab-df-quickchart {\n",
              "      --bg-color: #E8F0FE;\n",
              "      --fill-color: #1967D2;\n",
              "      --hover-bg-color: #E2EBFA;\n",
              "      --hover-fill-color: #174EA6;\n",
              "      --disabled-fill-color: #AAA;\n",
              "      --disabled-bg-color: #DDD;\n",
              "  }\n",
              "\n",
              "  [theme=dark] .colab-df-quickchart {\n",
              "      --bg-color: #3B4455;\n",
              "      --fill-color: #D2E3FC;\n",
              "      --hover-bg-color: #434B5C;\n",
              "      --hover-fill-color: #FFFFFF;\n",
              "      --disabled-bg-color: #3B4455;\n",
              "      --disabled-fill-color: #666;\n",
              "  }\n",
              "\n",
              "  .colab-df-quickchart {\n",
              "    background-color: var(--bg-color);\n",
              "    border: none;\n",
              "    border-radius: 50%;\n",
              "    cursor: pointer;\n",
              "    display: none;\n",
              "    fill: var(--fill-color);\n",
              "    height: 32px;\n",
              "    padding: 0;\n",
              "    width: 32px;\n",
              "  }\n",
              "\n",
              "  .colab-df-quickchart:hover {\n",
              "    background-color: var(--hover-bg-color);\n",
              "    box-shadow: 0 1px 2px rgba(60, 64, 67, 0.3), 0 1px 3px 1px rgba(60, 64, 67, 0.15);\n",
              "    fill: var(--button-hover-fill-color);\n",
              "  }\n",
              "\n",
              "  .colab-df-quickchart-complete:disabled,\n",
              "  .colab-df-quickchart-complete:disabled:hover {\n",
              "    background-color: var(--disabled-bg-color);\n",
              "    fill: var(--disabled-fill-color);\n",
              "    box-shadow: none;\n",
              "  }\n",
              "\n",
              "  .colab-df-spinner {\n",
              "    border: 2px solid var(--fill-color);\n",
              "    border-color: transparent;\n",
              "    border-bottom-color: var(--fill-color);\n",
              "    animation:\n",
              "      spin 1s steps(1) infinite;\n",
              "  }\n",
              "\n",
              "  @keyframes spin {\n",
              "    0% {\n",
              "      border-color: transparent;\n",
              "      border-bottom-color: var(--fill-color);\n",
              "      border-left-color: var(--fill-color);\n",
              "    }\n",
              "    20% {\n",
              "      border-color: transparent;\n",
              "      border-left-color: var(--fill-color);\n",
              "      border-top-color: var(--fill-color);\n",
              "    }\n",
              "    30% {\n",
              "      border-color: transparent;\n",
              "      border-left-color: var(--fill-color);\n",
              "      border-top-color: var(--fill-color);\n",
              "      border-right-color: var(--fill-color);\n",
              "    }\n",
              "    40% {\n",
              "      border-color: transparent;\n",
              "      border-right-color: var(--fill-color);\n",
              "      border-top-color: var(--fill-color);\n",
              "    }\n",
              "    60% {\n",
              "      border-color: transparent;\n",
              "      border-right-color: var(--fill-color);\n",
              "    }\n",
              "    80% {\n",
              "      border-color: transparent;\n",
              "      border-right-color: var(--fill-color);\n",
              "      border-bottom-color: var(--fill-color);\n",
              "    }\n",
              "    90% {\n",
              "      border-color: transparent;\n",
              "      border-bottom-color: var(--fill-color);\n",
              "    }\n",
              "  }\n",
              "</style>\n",
              "\n",
              "  <script>\n",
              "    async function quickchart(key) {\n",
              "      const quickchartButtonEl =\n",
              "        document.querySelector('#' + key + ' button');\n",
              "      quickchartButtonEl.disabled = true;  // To prevent multiple clicks.\n",
              "      quickchartButtonEl.classList.add('colab-df-spinner');\n",
              "      try {\n",
              "        const charts = await google.colab.kernel.invokeFunction(\n",
              "            'suggestCharts', [key], {});\n",
              "      } catch (error) {\n",
              "        console.error('Error during call to suggestCharts:', error);\n",
              "      }\n",
              "      quickchartButtonEl.classList.remove('colab-df-spinner');\n",
              "      quickchartButtonEl.classList.add('colab-df-quickchart-complete');\n",
              "    }\n",
              "    (() => {\n",
              "      let quickchartButtonEl =\n",
              "        document.querySelector('#df-165e2db9-e444-4fed-a0d4-29419f79c865 button');\n",
              "      quickchartButtonEl.style.display =\n",
              "        google.colab.kernel.accessAllowed ? 'block' : 'none';\n",
              "    })();\n",
              "  </script>\n",
              "</div>\n",
              "    </div>\n",
              "  </div>\n"
            ]
          },
          "metadata": {},
          "execution_count": 58
        }
      ]
    },
    {
      "cell_type": "code",
      "source": [
        "\n",
        "#====LNU with Least Squares\n",
        "\n",
        "X=X[2:,:]\n",
        "y=y[2:]"
      ],
      "metadata": {
        "id": "6ZqDlghyso3-"
      },
      "id": "6ZqDlghyso3-",
      "execution_count": null,
      "outputs": []
    },
    {
      "cell_type": "code",
      "source": [
        "\n",
        "ytrue=ytrue[2:]\n",
        "ytrue.shape"
      ],
      "metadata": {
        "colab": {
          "base_uri": "https://localhost:8080/"
        },
        "id": "0MRa_sJCt_eM",
        "outputId": "399ba261-41a5-4821-a7bc-4577f639a6f0"
      },
      "id": "0MRa_sJCt_eM",
      "execution_count": null,
      "outputs": [
        {
          "output_type": "execute_result",
          "data": {
            "text/plain": [
              "(594,)"
            ]
          },
          "metadata": {},
          "execution_count": 65
        }
      ]
    },
    {
      "cell_type": "code",
      "source": [
        "\n",
        "w=dot(dot(linalg.inv(dot(X.T,X)),X.T),y)\n",
        "w"
      ],
      "metadata": {
        "colab": {
          "base_uri": "https://localhost:8080/"
        },
        "id": "rWeP7rdYuN4e",
        "outputId": "4e5bd467-0daf-4a8e-b6c1-432883df8099"
      },
      "id": "rWeP7rdYuN4e",
      "execution_count": null,
      "outputs": [
        {
          "output_type": "execute_result",
          "data": {
            "text/plain": [
              "array([ 4.17669200e-04,  5.41713032e-01, -2.86679138e-01,  6.48392791e-01,\n",
              "       -6.41214445e-01])"
            ]
          },
          "metadata": {},
          "execution_count": 66
        }
      ]
    },
    {
      "cell_type": "code",
      "source": [
        "\n",
        "yn=dot(X,w)   # neuron output\n",
        "\n",
        "yn=yn*3*stdy+meany  # returning to original scale of data\n",
        "y=y*3*stdy+meany\n",
        "\n",
        "e=y-yn\n",
        "etrue=ytrue-yn\n",
        "\n",
        "figure()\n",
        "subplot(311)\n",
        "plot(y,'b',label=\"$y$...real with noise\")\n",
        "plot(ytrue,'m',label=\"$y_{true}$...without noise\")\n",
        "plot(yn,'g',label=\"$y_n$...neuron\");legend()\n",
        "subplot(312)\n",
        "plot(e,'r',label=\"e\")\n",
        "plot(etrue,'m',label=\"$e_{true}=y_{true}-y{n}$\");legend()\n",
        "subplot(313)\n",
        "plot(w,'o');grid()\n",
        "show()\n"
      ],
      "metadata": {
        "id": "i0tjmjv9uUaH"
      },
      "id": "i0tjmjv9uUaH",
      "execution_count": null,
      "outputs": []
    },
    {
      "cell_type": "markdown",
      "id": "c89e94d2-dbb5-42ca-b60e-2e85dcf30b91",
      "metadata": {
        "id": "c89e94d2-dbb5-42ca-b60e-2e85dcf30b91"
      },
      "source": [
        "There are measured data of four control signals for propellers motors (crazy fly drone) and the batery status, i.e., voltage.\n",
        "\n",
        "![Crazyflie2.0-585px.jpeg](data:image/jpeg;base64,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)\n",
        "\n"
      ]
    },
    {
      "cell_type": "markdown",
      "source": [
        "\n",
        "## Task 1\n",
        "Use data from \"battery_motor_log_example1 (no time specified).xls\" where we assume data are sampled with constant sampling (if sampling is not constant, you can not train a prediction model with constant prediction horizon, here one sample).\n",
        "<ul>\n",
        "    <li>\n",
        "Apply Linear Neuron and Least Squares direct weight calculation (the simplest one) to predict the batery status. For the beginning, try time embedding be 2 for all input variables to your neuron. Apply also data normalization before training, divide data to training data and testing data to validate how your model works for batery status prediction <b style=\"color:blue;\">[0.5 Points]</b>\n",
        "   </li>\n",
        "   <li>\n",
        "       Compare in more detail neural output $y_n$ and real target $y$ and calculate the  Pearson's correlation coefficients of neuron output and target data (do it both for training and testing data) . <b style=\"color:blue;\">[0.2 Points]</b>\n",
        "   </li>\n",
        "</ul>\n"
      ],
      "metadata": {
        "id": "Mb83wlY0pBNS"
      },
      "id": "Mb83wlY0pBNS"
    },
    {
      "cell_type": "code",
      "source": [
        "import pandas as pd\n",
        "import numpy as np\n",
        "from sklearn.model_selection import train_test_split\n",
        "from sklearn.preprocessing import StandardScaler\n",
        "from scipy.stats import pearsonr\n",
        "import matplotlib.pyplot as plt\n",
        "\n",
        "# Load data from Excel file\n",
        "data_frame = pd.read_csv('/content/battery_motor_log_example1 (no time specified).csv',)\n",
        "\n",
        "data_frame = data_frame.drop('sample index', axis=1)\n",
        "data_frame = data_frame[data_frame != 0.0].dropna(axis=0)\n",
        "\n",
        "# Extract features and target (battery status)\n",
        "X = data_frame.drop(['Battery voltage (V)'], axis=1)  # Features (all columns except the target)\n",
        "y = data_frame['Battery voltage (V)']  # Target variable\n",
        "\n",
        "# Apply data normalization\n",
        "scaler = StandardScaler()\n",
        "X_normalized = scaler.fit_transform(X)\n",
        "\n",
        "# Create feature vectors with a time embedding of 2\n",
        "X_emb = np.zeros((len(X), 9))  # 9 = 4 input variables * 2 time steps + 1 for bias\n",
        "for i in range(2, len(X)):\n",
        "    X_emb[i] = [1, X_normalized[i-1, 0], X_normalized[i-2, 0], X_normalized[i-1, 1], X_normalized[i-2, 1],\n",
        "                X_normalized[i-1, 2], X_normalized[i-2, 2], X_normalized[i-1, 3], X_normalized[i-2, 3]]\n",
        "\n",
        "# Split data into training and testing sets\n",
        "X_train, X_test, y_train, y_test = train_test_split(X_emb, y, test_size=0.2, random_state=42)\n",
        "\n",
        "# Calculate weights using least squares\n",
        "w = np.dot(np.dot(np.linalg.inv(np.dot(X_train.T, X_train)), X_train.T), y_train)\n",
        "\n",
        "# Predict battery status (neuron output) for training and testing data\n",
        "y_train_pred = np.dot(X_train, w)\n",
        "y_test_pred = np.dot(X_test, w)\n",
        "\n",
        "# If data was normalized, denormalize predictions\n",
        "y_train_pred = y_train_pred.reshape(-1, 1)\n",
        "y_test_pred = y_test_pred.reshape(-1, 1)\n",
        "\n",
        "# Calculate Pearson's correlation coefficients\n",
        "corr_train, _ = pearsonr(y_train_pred.flatten(), y_train)\n",
        "corr_test, _ = pearsonr(y_test_pred.flatten(), y_test)\n",
        "\n",
        "print(\"Correlation coefficient for training data:\", corr_train)\n",
        "print(\"Correlation coefficient for testing data:\", corr_test)\n",
        "\n",
        "# Plot graphs to visualize the results\n",
        "plt.figure(figsize=(12, 6))\n",
        "\n",
        "# Plot training data\n",
        "plt.subplot(1, 2, 1)\n",
        "plt.scatter(y_train, y_train_pred, color='blue')\n",
        "plt.xlabel(\"Actual Battery Voltage (V)\")\n",
        "plt.ylabel(\"Predicted Battery Voltage (V)\")\n",
        "plt.title(\"Training Data\")\n",
        "\n",
        "# Plot testing data\n",
        "plt.subplot(1, 2, 2)\n",
        "plt.scatter(y_test, y_test_pred, color='red')\n",
        "plt.xlabel(\"Actual Battery Voltage (V)\")\n",
        "plt.ylabel(\"Predicted Battery Voltage (V)\")\n",
        "plt.title(\"Testing Data\")\n",
        "\n",
        "plt.tight_layout()\n",
        "plt.show()\n"
      ],
      "metadata": {
        "colab": {
          "base_uri": "https://localhost:8080/",
          "height": 642
        },
        "id": "9YOZMka5D8BR",
        "outputId": "37d0e015-0e30-4554-adfc-ac9936d5f7f3"
      },
      "id": "9YOZMka5D8BR",
      "execution_count": null,
      "outputs": [
        {
          "output_type": "stream",
          "name": "stdout",
          "text": [
            "Correlation coefficient for training data: 0.3905581028967746\n",
            "Correlation coefficient for testing data: 0.6807223831889794\n"
          ]
        },
        {
          "output_type": "display_data",
          "data": {
            "text/plain": [
              "<Figure size 1200x600 with 2 Axes>"
            ],
            "image/png": "[encoded data removed]"
          },
          "metadata": {}
        }
      ]
    },
    {
      "cell_type": "markdown",
      "source": [
        "\n",
        "## Task 2\n",
        "  - Repeat the above <b>Task 1</b> for dataset in \"battery_motor_log(time specified).csv\". The reason is that the data might not be sampled with constant sampling, so you have to verify if the sampling is both constant and same for all data. If sampling is not constant, interpolate data so you get data with constant sampling (and repeat tasks from Assignment 1)\n",
        "   \n",
        "  - Carry out a study for increased time embeddings (1,2,3,4...?) in feature vector, and observe its effect on training accuracy and on testing accuracy, e.g., via Mean Square Error, or other error criterion.\n",
        "\n"
      ],
      "metadata": {
        "id": "u2qyyx9hk-5p"
      },
      "id": "u2qyyx9hk-5p"
    },
    {
      "cell_type": "code",
      "source": [
        "import pandas as pd\n",
        "import numpy as np\n",
        "from sklearn.model_selection import train_test_split\n",
        "from sklearn.preprocessing import StandardScaler\n",
        "from sklearn.metrics import mean_squared_error\n",
        "import matplotlib.pyplot as plt\n",
        "\n",
        "# Load data from CSV file\n",
        "data = pd.read_csv('/content/battery_motor_log(time specified).csv', parse_dates=[['Date', 'Time']], na_values=['nan nan'])\n",
        "\n",
        "# Convert Date_Time column to datetime format\n",
        "data['Date_Time'] = pd.to_datetime(data['Date_Time'], errors='coerce')\n",
        "\n",
        "# Check for rows where Date_Time is NaT (Not a Time, i.e., invalid datetime)\n",
        "invalid_rows = data[data['Date_Time'].isnull()]\n",
        "if not invalid_rows.empty:\n",
        "    print(f\"Found {len(invalid_rows)} invalid rows. Dropping them...\")\n",
        "    data = data.drop(invalid_rows.index)\n",
        "\n",
        "# Check if sampling interval is constant\n",
        "time_diff = data['Date_Time'].diff().mean()\n",
        "if not pd.Timedelta(seconds=1) == time_diff:\n",
        "    # Interpolate to achieve constant sampling interval (1 second in this case)\n",
        "    data = data.set_index('Date_Time').resample('1S').mean().interpolate(method='linear')\n",
        "\n",
        "# Reset index after interpolation\n",
        "data = data.reset_index()\n",
        "\n",
        "# Select relevant columns for modeling\n",
        "X = data[['Motor1 PWM', 'Motor2 PWM', 'Motor3 PWM', 'Motor4 PWM']].values\n",
        "y = data['Battery voltage (V)'].values\n",
        "\n",
        "# Normalize the data\n",
        "scaler = StandardScaler()\n",
        "X_normalized = scaler.fit_transform(X)\n",
        "\n",
        "# Function to create feature matrix with specified time embedding\n",
        "def create_feature_matrix(X_norm, embedding_size):\n",
        "    n_samples, n_features = X_norm.shape\n",
        "    X_emb = np.zeros((n_samples - embedding_size, n_features * embedding_size + 1))\n",
        "    for i in range(embedding_size, n_samples):\n",
        "        # Create feature vector with embedding_size\n",
        "        X_emb[i - embedding_size, 0] = 1  # Bias term\n",
        "        for j in range(embedding_size):\n",
        "            X_emb[i - embedding_size, j * n_features + 1:(j + 1) * n_features + 1] = X_norm[i - j - 1]\n",
        "    return X_emb\n",
        "\n",
        "# List of time embeddings to evaluate\n",
        "embedding_sizes = [1, 2, 3, 4]\n",
        "\n",
        "# Initialize lists to store results\n",
        "mse_train = []\n",
        "mse_test = []\n",
        "\n",
        "# Iterate over different embeddings\n",
        "for emb_size in embedding_sizes:\n",
        "    # Create feature matrix with current embedding size\n",
        "    X_emb = create_feature_matrix(X_normalized, emb_size)\n",
        "\n",
        "    # Split data into training and testing sets\n",
        "    X_train, X_test, y_train, y_test = train_test_split(X_emb, y[emb_size:], test_size=0.2, random_state=42)\n",
        "\n",
        "    # Calculate weights using least squares\n",
        "    w = np.dot(np.dot(np.linalg.inv(np.dot(X_train.T, X_train)), X_train.T), y_train)\n",
        "\n",
        "    # Predict battery voltage for training and testing data\n",
        "    y_train_pred = np.dot(X_train, w)\n",
        "    y_test_pred = np.dot(X_test, w)\n",
        "\n",
        "    # Calculate Mean Squared Error (MSE) for training and testing data\n",
        "    mse_train.append(mean_squared_error(y_train, y_train_pred))\n",
        "    mse_test.append(mean_squared_error(y_test, y_test_pred))\n",
        "\n",
        "# Plot MSE versus time embedding size\n",
        "plt.figure(figsize=(10, 6))\n",
        "plt.plot(embedding_sizes, mse_train, marker='o', linestyle='-', color='b', label='Training MSE')\n",
        "plt.plot(embedding_sizes, mse_test, marker='o', linestyle='-', color='r', label='Testing MSE')\n",
        "plt.title('Effect of Time Embedding Size on Model Accuracy')\n",
        "plt.xlabel('Time Embedding Size')\n",
        "plt.ylabel('Mean Squared Error (MSE)')\n",
        "plt.xticks(embedding_sizes)\n",
        "plt.legend()\n",
        "plt.grid(True)\n",
        "plt.show()\n",
        "\n",
        "# Print MSE values for each embedding size\n",
        "for i, emb_size in enumerate(embedding_sizes):\n",
        "    print(f\"Time Embedding Size {emb_size}:\")\n",
        "    print(f\"   Training MSE: {mse_train[i]}\")\n",
        "    print(f\"   Testing MSE : {mse_test[i]}\\n\")\n"
      ],
      "metadata": {
        "colab": {
          "base_uri": "https://localhost:8080/",
          "height": 878
        },
        "id": "bkchLP_skxYl",
        "outputId": "a58e5990-c008-4f81-ac75-de19ebf9a553"
      },
      "id": "bkchLP_skxYl",
      "execution_count": 3,
      "outputs": [
        {
          "output_type": "stream",
          "name": "stdout",
          "text": [
            "Found 156 invalid rows. Dropping them...\n"
          ]
        },
        {
          "output_type": "display_data",
          "data": {
            "text/plain": [
              "<Figure size 1000x600 with 1 Axes>"
            ],
            "image/png": "[encoded data removed]"
          },
          "metadata": {}
        },
        {
          "output_type": "stream",
          "name": "stdout",
          "text": [
            "Time Embedding Size 1:\n",
            "   Training MSE: 0.0013662636555874265\n",
            "   Testing MSE : 0.0005575856474476054\n",
            "\n",
            "Time Embedding Size 2:\n",
            "   Training MSE: 0.0010948851276523408\n",
            "   Testing MSE : 0.0010243360853840367\n",
            "\n",
            "Time Embedding Size 3:\n",
            "   Training MSE: 0.0009177717251840951\n",
            "   Testing MSE : 0.0010942971958996268\n",
            "\n",
            "Time Embedding Size 4:\n",
            "   Training MSE: 0.000734253032645914\n",
            "   Testing MSE : 0.0010094297041491995\n",
            "\n"
          ]
        }
      ]
    },
    {
      "cell_type": "markdown",
      "source": [
        "### Explanation:\n",
        "\n",
        "- **Loading and Preparing Data:**\n",
        "  - The dataset is loaded from \"battery_motor_log(time specified).csv\".\n",
        "  - Date and Time columns are converted to a single DateTime format and checked for constant sampling interval. If not constant, data is interpolated to achieve uniform sampling.\n",
        "\n",
        "- **Linear Neuron and Least Squares Calculation:**\n",
        "  - Data is normalized using `StandardScaler`.\n",
        "  - Feature vectors are constructed with varying time embeddings (`embedding_sizes`).\n",
        "\n",
        "- **Evaluate Different Time Embeddings:**\n",
        "  - For each embedding size, the model is trained using Linear Neuron and Least Squares.\n",
        "  - Mean Squared Error (MSE) is calculated for both training and testing datasets to evaluate model performance.\n",
        "\n",
        "- **Visualize Results:**\n",
        "  - MSE values are plotted against different embedding sizes to observe the effect of embedding size on model accuracy.\n",
        "\n",
        "\n",
        " exploring the impact of time embeddings on predictive accuracy and ensuring the dataset is effectively prepared for training and evaluation using Linear Neuron with Least Squares. Adjustments can be made to further optimize or expand the analysis based on specific requirements or additional insights."
      ],
      "metadata": {
        "id": "dgPktCh4lEEA"
      },
      "id": "dgPktCh4lEEA"
    }
  ],
  "metadata": {
    "kernelspec": {
      "display_name": "Python 3 (ipykernel)",
      "language": "python",
      "name": "python3"
    },
    "language_info": {
      "codemirror_mode": {
        "name": "ipython",
        "version": 3
      },
      "file_extension": ".py",
      "mimetype": "text/x-python",
      "name": "python",
      "nbconvert_exporter": "python",
      "pygments_lexer": "ipython3",
      "version": "3.10.12"
    },
    "colab": {
      "provenance": []
    }
  },
  "nbformat": 4,
  "nbformat_minor": 5
}